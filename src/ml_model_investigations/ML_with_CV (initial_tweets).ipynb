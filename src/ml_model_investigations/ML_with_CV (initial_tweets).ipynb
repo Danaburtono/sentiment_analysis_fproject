{
 "cells": [
  {
   "cell_type": "code",
   "execution_count": 1,
   "id": "04a9ae7a",
   "metadata": {},
   "outputs": [],
   "source": [
    "# Import dependencies\n",
    "import re\n",
    "import pandas as pd\n",
    "import matplotlib.pyplot as plt\n",
    "import numpy as np"
   ]
  },
  {
   "cell_type": "code",
   "execution_count": 2,
   "id": "6e818b2e",
   "metadata": {},
   "outputs": [],
   "source": [
    "from sklearn.model_selection import train_test_split\n",
    "from sklearn.feature_extraction.text import TfidfVectorizer\n",
    "from sklearn.svm import LinearSVC\n",
    "from sklearn.naive_bayes import BernoulliNB\n",
    "from sklearn.linear_model import LogisticRegression\n",
    "from sklearn.ensemble import AdaBoostClassifier\n",
    "from sklearn.metrics import confusion_matrix, classification_report"
   ]
  },
  {
   "cell_type": "code",
   "execution_count": 3,
   "id": "412f0553",
   "metadata": {},
   "outputs": [
    {
     "data": {
      "text/html": [
       "<div>\n",
       "<style scoped>\n",
       "    .dataframe tbody tr th:only-of-type {\n",
       "        vertical-align: middle;\n",
       "    }\n",
       "\n",
       "    .dataframe tbody tr th {\n",
       "        vertical-align: top;\n",
       "    }\n",
       "\n",
       "    .dataframe thead th {\n",
       "        text-align: right;\n",
       "    }\n",
       "</style>\n",
       "<table border=\"1\" class=\"dataframe\">\n",
       "  <thead>\n",
       "    <tr style=\"text-align: right;\">\n",
       "      <th></th>\n",
       "      <th>Unnamed: 0</th>\n",
       "      <th>tweet_id</th>\n",
       "      <th>full_text</th>\n",
       "      <th>sentiment</th>\n",
       "    </tr>\n",
       "  </thead>\n",
       "  <tbody>\n",
       "    <tr>\n",
       "      <th>0</th>\n",
       "      <td>0</td>\n",
       "      <td>1.590000e+18</td>\n",
       "      <td>@twk_5 @davidhogg111 Good question. The guns a...</td>\n",
       "      <td>anti-gun</td>\n",
       "    </tr>\n",
       "    <tr>\n",
       "      <th>1</th>\n",
       "      <td>1</td>\n",
       "      <td>1.590000e+18</td>\n",
       "      <td>@NikaOneDay @thegreatunkn @obiwill_kenobi @Tul...</td>\n",
       "      <td>anti-gun</td>\n",
       "    </tr>\n",
       "    <tr>\n",
       "      <th>2</th>\n",
       "      <td>2</td>\n",
       "      <td>1.590000e+18</td>\n",
       "      <td>Just…read this. \\nhttps://t.co/TfKqT2nNZI\\n\\n@...</td>\n",
       "      <td>anti-gun</td>\n",
       "    </tr>\n",
       "    <tr>\n",
       "      <th>3</th>\n",
       "      <td>3</td>\n",
       "      <td>1.590000e+18</td>\n",
       "      <td>@TomCottonAR Are you suggesting more guns like...</td>\n",
       "      <td>anti-gun</td>\n",
       "    </tr>\n",
       "    <tr>\n",
       "      <th>4</th>\n",
       "      <td>4</td>\n",
       "      <td>1.590000e+18</td>\n",
       "      <td>@GhostofTST Disagreed! You can have sensible g...</td>\n",
       "      <td>anti-gun</td>\n",
       "    </tr>\n",
       "    <tr>\n",
       "      <th>...</th>\n",
       "      <td>...</td>\n",
       "      <td>...</td>\n",
       "      <td>...</td>\n",
       "      <td>...</td>\n",
       "    </tr>\n",
       "    <tr>\n",
       "      <th>995</th>\n",
       "      <td>1395</td>\n",
       "      <td>1.590000e+18</td>\n",
       "      <td>@cbssaturday I am Dr. Floyd Jones, https://t.c...</td>\n",
       "      <td>neutral</td>\n",
       "    </tr>\n",
       "    <tr>\n",
       "      <th>996</th>\n",
       "      <td>1396</td>\n",
       "      <td>1.590000e+18</td>\n",
       "      <td>Future artist Tray Tray video shoot shot up in...</td>\n",
       "      <td>neutral</td>\n",
       "    </tr>\n",
       "    <tr>\n",
       "      <th>997</th>\n",
       "      <td>1397</td>\n",
       "      <td>1.590000e+18</td>\n",
       "      <td>Manhunt suspect in quadruple Aurora shooting t...</td>\n",
       "      <td>neutral</td>\n",
       "    </tr>\n",
       "    <tr>\n",
       "      <th>998</th>\n",
       "      <td>1398</td>\n",
       "      <td>1.590000e+18</td>\n",
       "      <td>@LogicIsLeaving @phike9391 @TMZ no, i don‚Äôt....</td>\n",
       "      <td>neutral</td>\n",
       "    </tr>\n",
       "    <tr>\n",
       "      <th>999</th>\n",
       "      <td>1399</td>\n",
       "      <td>1.590000e+18</td>\n",
       "      <td>No one is safe from gun violence\\n#TakeOff \\n#...</td>\n",
       "      <td>neutral</td>\n",
       "    </tr>\n",
       "  </tbody>\n",
       "</table>\n",
       "<p>1000 rows × 4 columns</p>\n",
       "</div>"
      ],
      "text/plain": [
       "     Unnamed: 0      tweet_id  \\\n",
       "0             0  1.590000e+18   \n",
       "1             1  1.590000e+18   \n",
       "2             2  1.590000e+18   \n",
       "3             3  1.590000e+18   \n",
       "4             4  1.590000e+18   \n",
       "..          ...           ...   \n",
       "995        1395  1.590000e+18   \n",
       "996        1396  1.590000e+18   \n",
       "997        1397  1.590000e+18   \n",
       "998        1398  1.590000e+18   \n",
       "999        1399  1.590000e+18   \n",
       "\n",
       "                                             full_text sentiment  \n",
       "0    @twk_5 @davidhogg111 Good question. The guns a...  anti-gun  \n",
       "1    @NikaOneDay @thegreatunkn @obiwill_kenobi @Tul...  anti-gun  \n",
       "2    Just…read this. \\nhttps://t.co/TfKqT2nNZI\\n\\n@...  anti-gun  \n",
       "3    @TomCottonAR Are you suggesting more guns like...  anti-gun  \n",
       "4    @GhostofTST Disagreed! You can have sensible g...  anti-gun  \n",
       "..                                                 ...       ...  \n",
       "995  @cbssaturday I am Dr. Floyd Jones, https://t.c...   neutral  \n",
       "996  Future artist Tray Tray video shoot shot up in...   neutral  \n",
       "997  Manhunt suspect in quadruple Aurora shooting t...   neutral  \n",
       "998  @LogicIsLeaving @phike9391 @TMZ no, i don‚Äôt....   neutral  \n",
       "999  No one is safe from gun violence\\n#TakeOff \\n#...   neutral  \n",
       "\n",
       "[1000 rows x 4 columns]"
      ]
     },
     "execution_count": 3,
     "metadata": {},
     "output_type": "execute_result"
    }
   ],
   "source": [
    "# Importing the test database\n",
    "twitter_df = pd.read_csv(\"../../res/initial_dataset.csv\")\n",
    "twitter_df"
   ]
  },
  {
   "cell_type": "code",
   "execution_count": 4,
   "id": "fb629bc5",
   "metadata": {},
   "outputs": [],
   "source": [
    "# Function to clean the database\n",
    "def preprocess_tweet(tweet):\n",
    "    '''Cleans text data up, leaving only 2 or more char long non-stepwords composed of A-Z & a-z only\n",
    "    in lowercase'''\n",
    "    \n",
    "    tweet = tweet.lower()\n",
    "\n",
    "    # Remove RT\n",
    "    sentence = re.sub('RT @\\w+: ',\" \", tweet)\n",
    "\n",
    "    # Remove special characters\n",
    "    tweet = re.sub(\"(@[A-Za-z0-9]+)|([^0-9A-Za-z \\t])|(\\w+:\\/\\/\\S+)\",\" \", tweet)\n",
    "\n",
    "    # Single character removal\n",
    "    tweet = re.sub(r\"\\s+[a-zA-Z]\\s+\", ' ', tweet)  # When we remove apostrophe from the word \"Mark's\", the apostrophe is replaced by an empty space. Hence, we are left with single character \"s\" that we are removing here.\n",
    "\n",
    "    # Remove multiple spaces\n",
    "    tweet = re.sub(r'\\s+', ' ', tweet)  # Next, we remove all the single characters and replace it by a space which creates multiple spaces in our text. Finally, we remove the multiple spaces from our text as well.\n",
    "\n",
    "    # Remove URL's\n",
    "    tweet = re.sub('((www.[^s]+)|(https?://[^s]+))',' ',tweet)\n",
    "    \n",
    "    #Replace 2a|2nd amendment to second amendment\n",
    "    tweet = re.sub(\"2a|2nd\\samendment|2nd|2ndamendment|secondamendment\", 'second amendment', tweet)\n",
    "    \n",
    "    # Remove numbers\n",
    "    tweet = re.sub('[0-9]+', '', tweet)\n",
    "    \n",
    "    return tweet"
   ]
  },
  {
   "cell_type": "code",
   "execution_count": 5,
   "id": "233591da",
   "metadata": {},
   "outputs": [
    {
     "data": {
      "text/html": [
       "<div>\n",
       "<style scoped>\n",
       "    .dataframe tbody tr th:only-of-type {\n",
       "        vertical-align: middle;\n",
       "    }\n",
       "\n",
       "    .dataframe tbody tr th {\n",
       "        vertical-align: top;\n",
       "    }\n",
       "\n",
       "    .dataframe thead th {\n",
       "        text-align: right;\n",
       "    }\n",
       "</style>\n",
       "<table border=\"1\" class=\"dataframe\">\n",
       "  <thead>\n",
       "    <tr style=\"text-align: right;\">\n",
       "      <th></th>\n",
       "      <th>Unnamed: 0</th>\n",
       "      <th>tweet_id</th>\n",
       "      <th>full_text</th>\n",
       "      <th>sentiment</th>\n",
       "      <th>cleaned</th>\n",
       "    </tr>\n",
       "  </thead>\n",
       "  <tbody>\n",
       "    <tr>\n",
       "      <th>0</th>\n",
       "      <td>0</td>\n",
       "      <td>1.590000e+18</td>\n",
       "      <td>@twk_5 @davidhogg111 Good question. The guns a...</td>\n",
       "      <td>anti-gun</td>\n",
       "      <td>good question the guns and rifles you used w...</td>\n",
       "    </tr>\n",
       "    <tr>\n",
       "      <th>1</th>\n",
       "      <td>1</td>\n",
       "      <td>1.590000e+18</td>\n",
       "      <td>@NikaOneDay @thegreatunkn @obiwill_kenobi @Tul...</td>\n",
       "      <td>anti-gun</td>\n",
       "      <td>kenobi personally d rather have time machine ...</td>\n",
       "    </tr>\n",
       "    <tr>\n",
       "      <th>2</th>\n",
       "      <td>2</td>\n",
       "      <td>1.590000e+18</td>\n",
       "      <td>Just…read this. \\nhttps://t.co/TfKqT2nNZI\\n\\n@...</td>\n",
       "      <td>anti-gun</td>\n",
       "      <td>just read this on the murder of isabella thall...</td>\n",
       "    </tr>\n",
       "    <tr>\n",
       "      <th>3</th>\n",
       "      <td>3</td>\n",
       "      <td>1.590000e+18</td>\n",
       "      <td>@TomCottonAR Are you suggesting more guns like...</td>\n",
       "      <td>anti-gun</td>\n",
       "      <td>are you suggesting more guns like your collea...</td>\n",
       "    </tr>\n",
       "    <tr>\n",
       "      <th>4</th>\n",
       "      <td>4</td>\n",
       "      <td>1.590000e+18</td>\n",
       "      <td>@GhostofTST Disagreed! You can have sensible g...</td>\n",
       "      <td>anti-gun</td>\n",
       "      <td>disagreed you can have sensible gun laws or y...</td>\n",
       "    </tr>\n",
       "    <tr>\n",
       "      <th>5</th>\n",
       "      <td>5</td>\n",
       "      <td>1.590000e+18</td>\n",
       "      <td>Rest in Power, Takeoff. \\n\\nSo sad to see anot...</td>\n",
       "      <td>anti-gun</td>\n",
       "      <td>rest in power takeoff so sad to see another vi...</td>\n",
       "    </tr>\n",
       "    <tr>\n",
       "      <th>6</th>\n",
       "      <td>6</td>\n",
       "      <td>1.590000e+18</td>\n",
       "      <td>@WisDems My roomate was going to date soneone ...</td>\n",
       "      <td>anti-gun</td>\n",
       "      <td>my roomate was going to date soneone until fo...</td>\n",
       "    </tr>\n",
       "    <tr>\n",
       "      <th>7</th>\n",
       "      <td>7</td>\n",
       "      <td>1.590000e+18</td>\n",
       "      <td>@CARebelBase Your underling premise is wrong. ...</td>\n",
       "      <td>anti-gun</td>\n",
       "      <td>your underling premise is wrong democrats nev...</td>\n",
       "    </tr>\n",
       "    <tr>\n",
       "      <th>8</th>\n",
       "      <td>8</td>\n",
       "      <td>1.590000e+18</td>\n",
       "      <td>@LiamMiller33 Politicians who prefer NRA paych...</td>\n",
       "      <td>anti-gun</td>\n",
       "      <td>politicians who prefer nra paychecks over pro...</td>\n",
       "    </tr>\n",
       "    <tr>\n",
       "      <th>9</th>\n",
       "      <td>9</td>\n",
       "      <td>1.590000e+18</td>\n",
       "      <td>@SonsOFreshOil @JOSE97LUIS @TulsiGabbard Reall...</td>\n",
       "      <td>anti-gun</td>\n",
       "      <td>really bad form does the second amendment as ...</td>\n",
       "    </tr>\n",
       "  </tbody>\n",
       "</table>\n",
       "</div>"
      ],
      "text/plain": [
       "   Unnamed: 0      tweet_id  \\\n",
       "0           0  1.590000e+18   \n",
       "1           1  1.590000e+18   \n",
       "2           2  1.590000e+18   \n",
       "3           3  1.590000e+18   \n",
       "4           4  1.590000e+18   \n",
       "5           5  1.590000e+18   \n",
       "6           6  1.590000e+18   \n",
       "7           7  1.590000e+18   \n",
       "8           8  1.590000e+18   \n",
       "9           9  1.590000e+18   \n",
       "\n",
       "                                           full_text sentiment  \\\n",
       "0  @twk_5 @davidhogg111 Good question. The guns a...  anti-gun   \n",
       "1  @NikaOneDay @thegreatunkn @obiwill_kenobi @Tul...  anti-gun   \n",
       "2  Just…read this. \\nhttps://t.co/TfKqT2nNZI\\n\\n@...  anti-gun   \n",
       "3  @TomCottonAR Are you suggesting more guns like...  anti-gun   \n",
       "4  @GhostofTST Disagreed! You can have sensible g...  anti-gun   \n",
       "5  Rest in Power, Takeoff. \\n\\nSo sad to see anot...  anti-gun   \n",
       "6  @WisDems My roomate was going to date soneone ...  anti-gun   \n",
       "7  @CARebelBase Your underling premise is wrong. ...  anti-gun   \n",
       "8  @LiamMiller33 Politicians who prefer NRA paych...  anti-gun   \n",
       "9  @SonsOFreshOil @JOSE97LUIS @TulsiGabbard Reall...  anti-gun   \n",
       "\n",
       "                                             cleaned  \n",
       "0    good question the guns and rifles you used w...  \n",
       "1   kenobi personally d rather have time machine ...  \n",
       "2  just read this on the murder of isabella thall...  \n",
       "3   are you suggesting more guns like your collea...  \n",
       "4   disagreed you can have sensible gun laws or y...  \n",
       "5  rest in power takeoff so sad to see another vi...  \n",
       "6   my roomate was going to date soneone until fo...  \n",
       "7   your underling premise is wrong democrats nev...  \n",
       "8   politicians who prefer nra paychecks over pro...  \n",
       "9   really bad form does the second amendment as ...  "
      ]
     },
     "execution_count": 5,
     "metadata": {},
     "output_type": "execute_result"
    }
   ],
   "source": [
    "# Save cleaned tweets in new cleaned column\n",
    "cleaned_tweets = []\n",
    "\n",
    "for tweet in twitter_df['full_text']:\n",
    "  cleaned_tweet = preprocess_tweet(tweet)\n",
    "  cleaned_tweets.append(cleaned_tweet)\n",
    "\n",
    "twitter_df['cleaned'] = pd.DataFrame(cleaned_tweets)\n",
    "twitter_df.head(10)"
   ]
  },
  {
   "cell_type": "code",
   "execution_count": 6,
   "id": "c8e970a2",
   "metadata": {},
   "outputs": [
    {
     "data": {
      "text/html": [
       "<div>\n",
       "<style scoped>\n",
       "    .dataframe tbody tr th:only-of-type {\n",
       "        vertical-align: middle;\n",
       "    }\n",
       "\n",
       "    .dataframe tbody tr th {\n",
       "        vertical-align: top;\n",
       "    }\n",
       "\n",
       "    .dataframe thead th {\n",
       "        text-align: right;\n",
       "    }\n",
       "</style>\n",
       "<table border=\"1\" class=\"dataframe\">\n",
       "  <thead>\n",
       "    <tr style=\"text-align: right;\">\n",
       "      <th></th>\n",
       "      <th>sentiment</th>\n",
       "      <th>cleaned</th>\n",
       "    </tr>\n",
       "  </thead>\n",
       "  <tbody>\n",
       "    <tr>\n",
       "      <th>0</th>\n",
       "      <td>anti-gun</td>\n",
       "      <td>good question the guns and rifles you used w...</td>\n",
       "    </tr>\n",
       "    <tr>\n",
       "      <th>1</th>\n",
       "      <td>anti-gun</td>\n",
       "      <td>kenobi personally d rather have time machine ...</td>\n",
       "    </tr>\n",
       "    <tr>\n",
       "      <th>2</th>\n",
       "      <td>anti-gun</td>\n",
       "      <td>just read this on the murder of isabella thall...</td>\n",
       "    </tr>\n",
       "    <tr>\n",
       "      <th>3</th>\n",
       "      <td>anti-gun</td>\n",
       "      <td>are you suggesting more guns like your collea...</td>\n",
       "    </tr>\n",
       "    <tr>\n",
       "      <th>4</th>\n",
       "      <td>anti-gun</td>\n",
       "      <td>disagreed you can have sensible gun laws or y...</td>\n",
       "    </tr>\n",
       "    <tr>\n",
       "      <th>...</th>\n",
       "      <td>...</td>\n",
       "      <td>...</td>\n",
       "    </tr>\n",
       "    <tr>\n",
       "      <th>995</th>\n",
       "      <td>neutral</td>\n",
       "      <td>am dr floyd jones saw chad lawson on the satu...</td>\n",
       "    </tr>\n",
       "    <tr>\n",
       "      <th>996</th>\n",
       "      <td>neutral</td>\n",
       "      <td>future artist tray tray video shoot shot up in...</td>\n",
       "    </tr>\n",
       "    <tr>\n",
       "      <th>997</th>\n",
       "      <td>neutral</td>\n",
       "      <td>manhunt suspect in quadruple aurora shooting t...</td>\n",
       "    </tr>\n",
       "    <tr>\n",
       "      <th>998</th>\n",
       "      <td>neutral</td>\n",
       "      <td>no don i wish could stop all gun violence tbh...</td>\n",
       "    </tr>\n",
       "    <tr>\n",
       "      <th>999</th>\n",
       "      <td>neutral</td>\n",
       "      <td>no one is safe from gun violence takeoff takeo...</td>\n",
       "    </tr>\n",
       "  </tbody>\n",
       "</table>\n",
       "<p>1000 rows × 2 columns</p>\n",
       "</div>"
      ],
      "text/plain": [
       "    sentiment                                            cleaned\n",
       "0    anti-gun    good question the guns and rifles you used w...\n",
       "1    anti-gun   kenobi personally d rather have time machine ...\n",
       "2    anti-gun  just read this on the murder of isabella thall...\n",
       "3    anti-gun   are you suggesting more guns like your collea...\n",
       "4    anti-gun   disagreed you can have sensible gun laws or y...\n",
       "..        ...                                                ...\n",
       "995   neutral   am dr floyd jones saw chad lawson on the satu...\n",
       "996   neutral  future artist tray tray video shoot shot up in...\n",
       "997   neutral  manhunt suspect in quadruple aurora shooting t...\n",
       "998   neutral   no don i wish could stop all gun violence tbh...\n",
       "999   neutral  no one is safe from gun violence takeoff takeo...\n",
       "\n",
       "[1000 rows x 2 columns]"
      ]
     },
     "execution_count": 6,
     "metadata": {},
     "output_type": "execute_result"
    }
   ],
   "source": [
    "# Drop column text\n",
    "twitter_df = twitter_df.drop(['Unnamed: 0','tweet_id', 'full_text'], axis=1)\n",
    "twitter_df"
   ]
  },
  {
   "cell_type": "code",
   "execution_count": 7,
   "id": "c4794ec0",
   "metadata": {},
   "outputs": [
    {
     "name": "stderr",
     "output_type": "stream",
     "text": [
      "[nltk_data] Downloading package stopwords to\n",
      "[nltk_data]     /Users/davids_mac/nltk_data...\n",
      "[nltk_data]   Package stopwords is already up-to-date!\n"
     ]
    }
   ],
   "source": [
    "# Remove stopwords\n",
    "import nltk\n",
    "nltk.download('stopwords')\n",
    "stopwordlist = nltk.corpus.stopwords.words('english')"
   ]
  },
  {
   "cell_type": "code",
   "execution_count": 8,
   "id": "00670d09",
   "metadata": {},
   "outputs": [
    {
     "data": {
      "text/html": [
       "<div>\n",
       "<style scoped>\n",
       "    .dataframe tbody tr th:only-of-type {\n",
       "        vertical-align: middle;\n",
       "    }\n",
       "\n",
       "    .dataframe tbody tr th {\n",
       "        vertical-align: top;\n",
       "    }\n",
       "\n",
       "    .dataframe thead th {\n",
       "        text-align: right;\n",
       "    }\n",
       "</style>\n",
       "<table border=\"1\" class=\"dataframe\">\n",
       "  <thead>\n",
       "    <tr style=\"text-align: right;\">\n",
       "      <th></th>\n",
       "      <th>sentiment</th>\n",
       "      <th>cleaned</th>\n",
       "    </tr>\n",
       "  </thead>\n",
       "  <tbody>\n",
       "    <tr>\n",
       "      <th>0</th>\n",
       "      <td>anti-gun</td>\n",
       "      <td>good question guns rifles used assault weapons...</td>\n",
       "    </tr>\n",
       "    <tr>\n",
       "      <th>1</th>\n",
       "      <td>anti-gun</td>\n",
       "      <td>kenobi personally rather time machine could go...</td>\n",
       "    </tr>\n",
       "    <tr>\n",
       "      <th>2</th>\n",
       "      <td>anti-gun</td>\n",
       "      <td>read murder isabella thallas denver mundanity ...</td>\n",
       "    </tr>\n",
       "    <tr>\n",
       "      <th>3</th>\n",
       "      <td>anti-gun</td>\n",
       "      <td>suggesting guns like colleagues gun violence e...</td>\n",
       "    </tr>\n",
       "    <tr>\n",
       "      <th>4</th>\n",
       "      <td>anti-gun</td>\n",
       "      <td>disagreed sensible gun laws second amendment r...</td>\n",
       "    </tr>\n",
       "  </tbody>\n",
       "</table>\n",
       "</div>"
      ],
      "text/plain": [
       "  sentiment                                            cleaned\n",
       "0  anti-gun  good question guns rifles used assault weapons...\n",
       "1  anti-gun  kenobi personally rather time machine could go...\n",
       "2  anti-gun  read murder isabella thallas denver mundanity ...\n",
       "3  anti-gun  suggesting guns like colleagues gun violence e...\n",
       "4  anti-gun  disagreed sensible gun laws second amendment r..."
      ]
     },
     "execution_count": 8,
     "metadata": {},
     "output_type": "execute_result"
    }
   ],
   "source": [
    "# Cleaning and removing the above stop words list from the tweet text\n",
    "STOPWORDS = set(stopwordlist)\n",
    "def cleaning_stopwords(text):\n",
    "    return \" \".join([word for word in str(text).split() if word not in STOPWORDS])\n",
    "twitter_df['cleaned'] = twitter_df['cleaned'].apply(lambda text: cleaning_stopwords(text))\n",
    "twitter_df.head()"
   ]
  },
  {
   "cell_type": "code",
   "execution_count": 9,
   "id": "26e0f277",
   "metadata": {},
   "outputs": [
    {
     "data": {
      "text/html": [
       "<div>\n",
       "<style scoped>\n",
       "    .dataframe tbody tr th:only-of-type {\n",
       "        vertical-align: middle;\n",
       "    }\n",
       "\n",
       "    .dataframe tbody tr th {\n",
       "        vertical-align: top;\n",
       "    }\n",
       "\n",
       "    .dataframe thead th {\n",
       "        text-align: right;\n",
       "    }\n",
       "</style>\n",
       "<table border=\"1\" class=\"dataframe\">\n",
       "  <thead>\n",
       "    <tr style=\"text-align: right;\">\n",
       "      <th></th>\n",
       "      <th>sentiment</th>\n",
       "      <th>cleaned</th>\n",
       "    </tr>\n",
       "  </thead>\n",
       "  <tbody>\n",
       "    <tr>\n",
       "      <th>0</th>\n",
       "      <td>anti-gun</td>\n",
       "      <td>[good, question, guns, rifles, used, assault, ...</td>\n",
       "    </tr>\n",
       "    <tr>\n",
       "      <th>1</th>\n",
       "      <td>anti-gun</td>\n",
       "      <td>[kenobi, personally, rather, time, machine, co...</td>\n",
       "    </tr>\n",
       "    <tr>\n",
       "      <th>2</th>\n",
       "      <td>anti-gun</td>\n",
       "      <td>[read, murder, isabella, thallas, denver, mund...</td>\n",
       "    </tr>\n",
       "    <tr>\n",
       "      <th>3</th>\n",
       "      <td>anti-gun</td>\n",
       "      <td>[suggesting, guns, like, colleagues, gun, viol...</td>\n",
       "    </tr>\n",
       "    <tr>\n",
       "      <th>4</th>\n",
       "      <td>anti-gun</td>\n",
       "      <td>[disagreed, sensible, gun, laws, second, amend...</td>\n",
       "    </tr>\n",
       "  </tbody>\n",
       "</table>\n",
       "</div>"
      ],
      "text/plain": [
       "  sentiment                                            cleaned\n",
       "0  anti-gun  [good, question, guns, rifles, used, assault, ...\n",
       "1  anti-gun  [kenobi, personally, rather, time, machine, co...\n",
       "2  anti-gun  [read, murder, isabella, thallas, denver, mund...\n",
       "3  anti-gun  [suggesting, guns, like, colleagues, gun, viol...\n",
       "4  anti-gun  [disagreed, sensible, gun, laws, second, amend..."
      ]
     },
     "execution_count": 9,
     "metadata": {},
     "output_type": "execute_result"
    }
   ],
   "source": [
    "# Getting tokenization of tweet text\n",
    "from nltk.tokenize import RegexpTokenizer\n",
    "tokenizer = RegexpTokenizer(\"[\\w']+\")\n",
    "twitter_df['cleaned'] = twitter_df['cleaned'].apply(tokenizer.tokenize)\n",
    "twitter_df.head()"
   ]
  },
  {
   "cell_type": "code",
   "execution_count": 10,
   "id": "8f224ec0",
   "metadata": {},
   "outputs": [
    {
     "data": {
      "text/html": [
       "<div>\n",
       "<style scoped>\n",
       "    .dataframe tbody tr th:only-of-type {\n",
       "        vertical-align: middle;\n",
       "    }\n",
       "\n",
       "    .dataframe tbody tr th {\n",
       "        vertical-align: top;\n",
       "    }\n",
       "\n",
       "    .dataframe thead th {\n",
       "        text-align: right;\n",
       "    }\n",
       "</style>\n",
       "<table border=\"1\" class=\"dataframe\">\n",
       "  <thead>\n",
       "    <tr style=\"text-align: right;\">\n",
       "      <th></th>\n",
       "      <th>sentiment</th>\n",
       "      <th>cleaned</th>\n",
       "    </tr>\n",
       "  </thead>\n",
       "  <tbody>\n",
       "    <tr>\n",
       "      <th>0</th>\n",
       "      <td>anti-gun</td>\n",
       "      <td>[good, question, guns, rifles, used, assault, ...</td>\n",
       "    </tr>\n",
       "    <tr>\n",
       "      <th>1</th>\n",
       "      <td>anti-gun</td>\n",
       "      <td>[kenobi, personally, rather, time, machine, co...</td>\n",
       "    </tr>\n",
       "    <tr>\n",
       "      <th>2</th>\n",
       "      <td>anti-gun</td>\n",
       "      <td>[read, murder, isabella, thallas, denver, mund...</td>\n",
       "    </tr>\n",
       "    <tr>\n",
       "      <th>3</th>\n",
       "      <td>anti-gun</td>\n",
       "      <td>[suggesting, guns, like, colleagues, gun, viol...</td>\n",
       "    </tr>\n",
       "    <tr>\n",
       "      <th>4</th>\n",
       "      <td>anti-gun</td>\n",
       "      <td>[disagreed, sensible, gun, laws, second, amend...</td>\n",
       "    </tr>\n",
       "  </tbody>\n",
       "</table>\n",
       "</div>"
      ],
      "text/plain": [
       "  sentiment                                            cleaned\n",
       "0  anti-gun  [good, question, guns, rifles, used, assault, ...\n",
       "1  anti-gun  [kenobi, personally, rather, time, machine, co...\n",
       "2  anti-gun  [read, murder, isabella, thallas, denver, mund...\n",
       "3  anti-gun  [suggesting, guns, like, colleagues, gun, viol...\n",
       "4  anti-gun  [disagreed, sensible, gun, laws, second, amend..."
      ]
     },
     "execution_count": 10,
     "metadata": {},
     "output_type": "execute_result"
    }
   ],
   "source": [
    "# Applying Stemming\n",
    "st = nltk.PorterStemmer()\n",
    "def stemming_on_text(data):\n",
    "    text = [st.stem(word) for word in data]\n",
    "    return data\n",
    "twitter_df['cleaned'] = twitter_df['cleaned'].apply(lambda x: stemming_on_text(x))\n",
    "twitter_df.head()"
   ]
  },
  {
   "cell_type": "code",
   "execution_count": 11,
   "id": "33004f7a",
   "metadata": {},
   "outputs": [
    {
     "data": {
      "text/html": [
       "<div>\n",
       "<style scoped>\n",
       "    .dataframe tbody tr th:only-of-type {\n",
       "        vertical-align: middle;\n",
       "    }\n",
       "\n",
       "    .dataframe tbody tr th {\n",
       "        vertical-align: top;\n",
       "    }\n",
       "\n",
       "    .dataframe thead th {\n",
       "        text-align: right;\n",
       "    }\n",
       "</style>\n",
       "<table border=\"1\" class=\"dataframe\">\n",
       "  <thead>\n",
       "    <tr style=\"text-align: right;\">\n",
       "      <th></th>\n",
       "      <th>sentiment</th>\n",
       "      <th>cleaned</th>\n",
       "    </tr>\n",
       "  </thead>\n",
       "  <tbody>\n",
       "    <tr>\n",
       "      <th>0</th>\n",
       "      <td>anti-gun</td>\n",
       "      <td>[good, question, guns, rifles, used, assault, ...</td>\n",
       "    </tr>\n",
       "    <tr>\n",
       "      <th>1</th>\n",
       "      <td>anti-gun</td>\n",
       "      <td>[kenobi, personally, rather, time, machine, co...</td>\n",
       "    </tr>\n",
       "    <tr>\n",
       "      <th>2</th>\n",
       "      <td>anti-gun</td>\n",
       "      <td>[read, murder, isabella, thallas, denver, mund...</td>\n",
       "    </tr>\n",
       "    <tr>\n",
       "      <th>3</th>\n",
       "      <td>anti-gun</td>\n",
       "      <td>[suggesting, guns, like, colleagues, gun, viol...</td>\n",
       "    </tr>\n",
       "    <tr>\n",
       "      <th>4</th>\n",
       "      <td>anti-gun</td>\n",
       "      <td>[disagreed, sensible, gun, laws, second, amend...</td>\n",
       "    </tr>\n",
       "  </tbody>\n",
       "</table>\n",
       "</div>"
      ],
      "text/plain": [
       "  sentiment                                            cleaned\n",
       "0  anti-gun  [good, question, guns, rifles, used, assault, ...\n",
       "1  anti-gun  [kenobi, personally, rather, time, machine, co...\n",
       "2  anti-gun  [read, murder, isabella, thallas, denver, mund...\n",
       "3  anti-gun  [suggesting, guns, like, colleagues, gun, viol...\n",
       "4  anti-gun  [disagreed, sensible, gun, laws, second, amend..."
      ]
     },
     "execution_count": 11,
     "metadata": {},
     "output_type": "execute_result"
    }
   ],
   "source": [
    "# Applying Lemmatizer\n",
    "lm = nltk.WordNetLemmatizer()\n",
    "def lemmatizer_on_text(data):\n",
    "    text = [lm.lemmatize(word) for word in data]\n",
    "    return data\n",
    "twitter_df['cleaned'] = twitter_df['cleaned'].apply(lambda x: lemmatizer_on_text(x))\n",
    "twitter_df.head()"
   ]
  },
  {
   "cell_type": "code",
   "execution_count": 12,
   "id": "7a338c01",
   "metadata": {},
   "outputs": [],
   "source": [
    "# Removing words with less frequency\n",
    "# filter function to select only the words with more than 10 counts and less than 800.\n",
    "import itertools\n",
    "flat_list = list(itertools.chain.from_iterable(twitter_df['cleaned']))\n",
    "\n",
    "fd = nltk.FreqDist(flat_list)\n",
    "word_to_keep = list(filter(lambda x: 800>x[1]>10, fd.items()))\n",
    "\n",
    "word_list_to_keep= [item[0] for item in word_to_keep]\n",
    "\n",
    "def remove_lessfreq(tokanized_tweets):\n",
    "    text_out = [word for word in tokanized_tweets if word in word_list_to_keep]\n",
    "    return text_out"
   ]
  },
  {
   "cell_type": "code",
   "execution_count": 13,
   "id": "fd2cc6bb",
   "metadata": {},
   "outputs": [
    {
     "data": {
      "text/html": [
       "<div>\n",
       "<style scoped>\n",
       "    .dataframe tbody tr th:only-of-type {\n",
       "        vertical-align: middle;\n",
       "    }\n",
       "\n",
       "    .dataframe tbody tr th {\n",
       "        vertical-align: top;\n",
       "    }\n",
       "\n",
       "    .dataframe thead th {\n",
       "        text-align: right;\n",
       "    }\n",
       "</style>\n",
       "<table border=\"1\" class=\"dataframe\">\n",
       "  <thead>\n",
       "    <tr style=\"text-align: right;\">\n",
       "      <th></th>\n",
       "      <th>sentiment</th>\n",
       "      <th>cleaned</th>\n",
       "    </tr>\n",
       "  </thead>\n",
       "  <tbody>\n",
       "    <tr>\n",
       "      <th>0</th>\n",
       "      <td>anti-gun</td>\n",
       "      <td>[good, guns, rifles, used, assault, weapons, p...</td>\n",
       "    </tr>\n",
       "    <tr>\n",
       "      <th>1</th>\n",
       "      <td>anti-gun</td>\n",
       "      <td>[time, could, go, back, prevent, guns, first, ...</td>\n",
       "    </tr>\n",
       "    <tr>\n",
       "      <th>2</th>\n",
       "      <td>anti-gun</td>\n",
       "      <td>[read, murder, gun, violence, us]</td>\n",
       "    </tr>\n",
       "    <tr>\n",
       "      <th>3</th>\n",
       "      <td>anti-gun</td>\n",
       "      <td>[guns, like, gun, violence, us, americans, gun...</td>\n",
       "    </tr>\n",
       "    <tr>\n",
       "      <th>4</th>\n",
       "      <td>anti-gun</td>\n",
       "      <td>[gun, laws, second, amendment, second, amendme...</td>\n",
       "    </tr>\n",
       "    <tr>\n",
       "      <th>...</th>\n",
       "      <td>...</td>\n",
       "      <td>...</td>\n",
       "    </tr>\n",
       "    <tr>\n",
       "      <th>995</th>\n",
       "      <td>neutral</td>\n",
       "      <td>[gun, violence, come]</td>\n",
       "    </tr>\n",
       "    <tr>\n",
       "      <th>996</th>\n",
       "      <td>neutral</td>\n",
       "      <td>[shot, chicago, shooting]</td>\n",
       "    </tr>\n",
       "    <tr>\n",
       "      <th>997</th>\n",
       "      <td>neutral</td>\n",
       "      <td>[shooting, say]</td>\n",
       "    </tr>\n",
       "    <tr>\n",
       "      <th>998</th>\n",
       "      <td>neutral</td>\n",
       "      <td>[could, stop, gun, violence, woman, think, kno...</td>\n",
       "    </tr>\n",
       "    <tr>\n",
       "      <th>999</th>\n",
       "      <td>neutral</td>\n",
       "      <td>[one, safe, gun, violence, takeoff]</td>\n",
       "    </tr>\n",
       "  </tbody>\n",
       "</table>\n",
       "<p>1000 rows × 2 columns</p>\n",
       "</div>"
      ],
      "text/plain": [
       "    sentiment                                            cleaned\n",
       "0    anti-gun  [good, guns, rifles, used, assault, weapons, p...\n",
       "1    anti-gun  [time, could, go, back, prevent, guns, first, ...\n",
       "2    anti-gun                  [read, murder, gun, violence, us]\n",
       "3    anti-gun  [guns, like, gun, violence, us, americans, gun...\n",
       "4    anti-gun  [gun, laws, second, amendment, second, amendme...\n",
       "..        ...                                                ...\n",
       "995   neutral                              [gun, violence, come]\n",
       "996   neutral                          [shot, chicago, shooting]\n",
       "997   neutral                                    [shooting, say]\n",
       "998   neutral  [could, stop, gun, violence, woman, think, kno...\n",
       "999   neutral                [one, safe, gun, violence, takeoff]\n",
       "\n",
       "[1000 rows x 2 columns]"
      ]
     },
     "execution_count": 13,
     "metadata": {},
     "output_type": "execute_result"
    }
   ],
   "source": [
    "twitter_df['cleaned'] = twitter_df['cleaned'].apply(lambda x: remove_lessfreq(x))\n",
    "twitter_df"
   ]
  },
  {
   "cell_type": "code",
   "execution_count": 14,
   "id": "e6adf6fe",
   "metadata": {},
   "outputs": [],
   "source": [
    "# Separating input feature and label\n",
    "X=twitter_df.cleaned\n",
    "y=twitter_df.sentiment"
   ]
  },
  {
   "cell_type": "code",
   "execution_count": 15,
   "id": "d3dbb083",
   "metadata": {},
   "outputs": [],
   "source": [
    "# Splitting our dataset into Train and Test Subset\n",
    "X_train, X_test, y_train, y_test = train_test_split(X, y, random_state=1)"
   ]
  },
  {
   "cell_type": "code",
   "execution_count": 16,
   "id": "0dc892ea",
   "metadata": {},
   "outputs": [
    {
     "name": "stdout",
     "output_type": "stream",
     "text": [
      "(750, 413)\n"
     ]
    }
   ],
   "source": [
    "# Cleaning data in single line through passing clean_text in the CountVectorizer\n",
    "from sklearn.feature_extraction.text import CountVectorizer\n",
    "\n",
    "vectorizer = CountVectorizer(min_df = 5, ngram_range=(1,5)) \n",
    "countVector = vectorizer.fit_transform(X_train.apply(lambda x: ' '.join(x)))\n",
    "print(countVector.shape)"
   ]
  },
  {
   "cell_type": "code",
   "execution_count": 17,
   "id": "bd46412a",
   "metadata": {},
   "outputs": [],
   "source": [
    "X_train = vectorizer.transform(X_train.apply(lambda x: ' '.join(x)))\n",
    "X_test  = vectorizer.transform(X_test.apply(lambda x: ' '.join(x)))"
   ]
  },
  {
   "cell_type": "markdown",
   "id": "f5607aef",
   "metadata": {},
   "source": [
    "## 1.Balanced Random Forest Classifier"
   ]
  },
  {
   "cell_type": "code",
   "execution_count": 18,
   "id": "5344b038",
   "metadata": {},
   "outputs": [],
   "source": [
    "# Resample the training data with the BalancedRandomForestClassifier\n",
    "from imblearn.ensemble import BalancedRandomForestClassifier\n",
    "brf_model = BalancedRandomForestClassifier(n_estimators =140, random_state=1)\n",
    "brf_model.fit(X_train, y_train)\n",
    "y_pred = brf_model.predict(X_test)"
   ]
  },
  {
   "cell_type": "code",
   "execution_count": 19,
   "id": "2983b693",
   "metadata": {},
   "outputs": [
    {
     "data": {
      "text/plain": [
       "0.6333333333333333"
      ]
     },
     "execution_count": 19,
     "metadata": {},
     "output_type": "execute_result"
    }
   ],
   "source": [
    "# Calculated the balanced accuracy score\n",
    "from sklearn.metrics import balanced_accuracy_score\n",
    "balanced_accuracy_score(y_test, y_pred)"
   ]
  },
  {
   "cell_type": "code",
   "execution_count": 20,
   "id": "9f178d74",
   "metadata": {
    "scrolled": true
   },
   "outputs": [
    {
     "name": "stdout",
     "output_type": "stream",
     "text": [
      "Classification Report\n",
      "              precision    recall  f1-score   support\n",
      "\n",
      "    anti-gun       0.72      0.60      0.66       100\n",
      "     neutral       0.44      0.77      0.56        60\n",
      "     pro-gun       0.77      0.53      0.63        90\n",
      "\n",
      "    accuracy                           0.62       250\n",
      "   macro avg       0.65      0.63      0.61       250\n",
      "weighted avg       0.67      0.62      0.62       250\n",
      "\n"
     ]
    }
   ],
   "source": [
    "from sklearn.metrics import balanced_accuracy_score, classification_report\n",
    "print(\"Classification Report\")\n",
    "print(classification_report(y_test, y_pred))"
   ]
  },
  {
   "cell_type": "code",
   "execution_count": 21,
   "id": "a3906a7e",
   "metadata": {},
   "outputs": [
    {
     "data": {
      "text/html": [
       "<div>\n",
       "<style scoped>\n",
       "    .dataframe tbody tr th:only-of-type {\n",
       "        vertical-align: middle;\n",
       "    }\n",
       "\n",
       "    .dataframe tbody tr th {\n",
       "        vertical-align: top;\n",
       "    }\n",
       "\n",
       "    .dataframe thead th {\n",
       "        text-align: right;\n",
       "    }\n",
       "</style>\n",
       "<table border=\"1\" class=\"dataframe\">\n",
       "  <thead>\n",
       "    <tr style=\"text-align: right;\">\n",
       "      <th></th>\n",
       "      <th>precision</th>\n",
       "      <th>recall</th>\n",
       "      <th>f1-score</th>\n",
       "      <th>support</th>\n",
       "    </tr>\n",
       "  </thead>\n",
       "  <tbody>\n",
       "    <tr>\n",
       "      <th>anti-gun</th>\n",
       "      <td>0.722892</td>\n",
       "      <td>0.600000</td>\n",
       "      <td>0.655738</td>\n",
       "      <td>100.000</td>\n",
       "    </tr>\n",
       "    <tr>\n",
       "      <th>neutral</th>\n",
       "      <td>0.438095</td>\n",
       "      <td>0.766667</td>\n",
       "      <td>0.557576</td>\n",
       "      <td>60.000</td>\n",
       "    </tr>\n",
       "    <tr>\n",
       "      <th>pro-gun</th>\n",
       "      <td>0.774194</td>\n",
       "      <td>0.533333</td>\n",
       "      <td>0.631579</td>\n",
       "      <td>90.000</td>\n",
       "    </tr>\n",
       "    <tr>\n",
       "      <th>accuracy</th>\n",
       "      <td>0.616000</td>\n",
       "      <td>0.616000</td>\n",
       "      <td>0.616000</td>\n",
       "      <td>0.616</td>\n",
       "    </tr>\n",
       "    <tr>\n",
       "      <th>macro avg</th>\n",
       "      <td>0.645060</td>\n",
       "      <td>0.633333</td>\n",
       "      <td>0.614964</td>\n",
       "      <td>250.000</td>\n",
       "    </tr>\n",
       "    <tr>\n",
       "      <th>weighted avg</th>\n",
       "      <td>0.673009</td>\n",
       "      <td>0.616000</td>\n",
       "      <td>0.623482</td>\n",
       "      <td>250.000</td>\n",
       "    </tr>\n",
       "  </tbody>\n",
       "</table>\n",
       "</div>"
      ],
      "text/plain": [
       "              precision    recall  f1-score  support\n",
       "anti-gun       0.722892  0.600000  0.655738  100.000\n",
       "neutral        0.438095  0.766667  0.557576   60.000\n",
       "pro-gun        0.774194  0.533333  0.631579   90.000\n",
       "accuracy       0.616000  0.616000  0.616000    0.616\n",
       "macro avg      0.645060  0.633333  0.614964  250.000\n",
       "weighted avg   0.673009  0.616000  0.623482  250.000"
      ]
     },
     "execution_count": 21,
     "metadata": {},
     "output_type": "execute_result"
    }
   ],
   "source": [
    "report1 = classification_report(y_test, y_pred, output_dict=True)\n",
    "brfc_df = pd.DataFrame(report1).transpose()\n",
    "brfc_df\n"
   ]
  },
  {
   "cell_type": "code",
   "execution_count": 22,
   "id": "e0ded1ff",
   "metadata": {},
   "outputs": [
    {
     "data": {
      "text/html": [
       "<div>\n",
       "<style scoped>\n",
       "    .dataframe tbody tr th:only-of-type {\n",
       "        vertical-align: middle;\n",
       "    }\n",
       "\n",
       "    .dataframe tbody tr th {\n",
       "        vertical-align: top;\n",
       "    }\n",
       "\n",
       "    .dataframe thead th {\n",
       "        text-align: right;\n",
       "    }\n",
       "</style>\n",
       "<table border=\"1\" class=\"dataframe\">\n",
       "  <thead>\n",
       "    <tr style=\"text-align: right;\">\n",
       "      <th></th>\n",
       "      <th>precision</th>\n",
       "      <th>recall</th>\n",
       "      <th>f1-score</th>\n",
       "      <th>support</th>\n",
       "    </tr>\n",
       "  </thead>\n",
       "  <tbody>\n",
       "    <tr>\n",
       "      <th>anti-gun</th>\n",
       "      <td>0.722892</td>\n",
       "      <td>0.600000</td>\n",
       "      <td>0.655738</td>\n",
       "      <td>100.000</td>\n",
       "    </tr>\n",
       "    <tr>\n",
       "      <th>neutral</th>\n",
       "      <td>0.438095</td>\n",
       "      <td>0.766667</td>\n",
       "      <td>0.557576</td>\n",
       "      <td>60.000</td>\n",
       "    </tr>\n",
       "    <tr>\n",
       "      <th>pro-gun</th>\n",
       "      <td>0.774194</td>\n",
       "      <td>0.533333</td>\n",
       "      <td>0.631579</td>\n",
       "      <td>90.000</td>\n",
       "    </tr>\n",
       "    <tr>\n",
       "      <th>accuracy</th>\n",
       "      <td>0.616000</td>\n",
       "      <td>0.616000</td>\n",
       "      <td>0.616000</td>\n",
       "      <td>0.616</td>\n",
       "    </tr>\n",
       "    <tr>\n",
       "      <th>macro avg</th>\n",
       "      <td>0.645060</td>\n",
       "      <td>0.633333</td>\n",
       "      <td>0.614964</td>\n",
       "      <td>250.000</td>\n",
       "    </tr>\n",
       "    <tr>\n",
       "      <th>weighted avg</th>\n",
       "      <td>0.673009</td>\n",
       "      <td>0.616000</td>\n",
       "      <td>0.623482</td>\n",
       "      <td>250.000</td>\n",
       "    </tr>\n",
       "  </tbody>\n",
       "</table>\n",
       "</div>"
      ],
      "text/plain": [
       "              precision    recall  f1-score  support\n",
       "anti-gun       0.722892  0.600000  0.655738  100.000\n",
       "neutral        0.438095  0.766667  0.557576   60.000\n",
       "pro-gun        0.774194  0.533333  0.631579   90.000\n",
       "accuracy       0.616000  0.616000  0.616000    0.616\n",
       "macro avg      0.645060  0.633333  0.614964  250.000\n",
       "weighted avg   0.673009  0.616000  0.623482  250.000"
      ]
     },
     "execution_count": 22,
     "metadata": {},
     "output_type": "execute_result"
    }
   ],
   "source": [
    "report1 = classification_report(y_test, y_pred, output_dict=True)\n",
    "brfc_df = pd.DataFrame(report1).transpose()\n",
    "brfc_df\n"
   ]
  },
  {
   "cell_type": "code",
   "execution_count": 23,
   "id": "755f310c",
   "metadata": {},
   "outputs": [
    {
     "data": {
      "text/html": [
       "<div>\n",
       "<style scoped>\n",
       "    .dataframe tbody tr th:only-of-type {\n",
       "        vertical-align: middle;\n",
       "    }\n",
       "\n",
       "    .dataframe tbody tr th {\n",
       "        vertical-align: top;\n",
       "    }\n",
       "\n",
       "    .dataframe thead th {\n",
       "        text-align: right;\n",
       "    }\n",
       "</style>\n",
       "<table border=\"1\" class=\"dataframe\">\n",
       "  <thead>\n",
       "    <tr style=\"text-align: right;\">\n",
       "      <th></th>\n",
       "      <th>brfc_precision</th>\n",
       "      <th>brfc_recall</th>\n",
       "      <th>brfc_f1-score</th>\n",
       "    </tr>\n",
       "  </thead>\n",
       "  <tbody>\n",
       "    <tr>\n",
       "      <th>anti-gun</th>\n",
       "      <td>0.722892</td>\n",
       "      <td>0.600000</td>\n",
       "      <td>0.655738</td>\n",
       "    </tr>\n",
       "    <tr>\n",
       "      <th>neutral</th>\n",
       "      <td>0.438095</td>\n",
       "      <td>0.766667</td>\n",
       "      <td>0.557576</td>\n",
       "    </tr>\n",
       "    <tr>\n",
       "      <th>pro-gun</th>\n",
       "      <td>0.774194</td>\n",
       "      <td>0.533333</td>\n",
       "      <td>0.631579</td>\n",
       "    </tr>\n",
       "  </tbody>\n",
       "</table>\n",
       "</div>"
      ],
      "text/plain": [
       "          brfc_precision  brfc_recall  brfc_f1-score\n",
       "anti-gun        0.722892     0.600000       0.655738\n",
       "neutral         0.438095     0.766667       0.557576\n",
       "pro-gun         0.774194     0.533333       0.631579"
      ]
     },
     "execution_count": 23,
     "metadata": {},
     "output_type": "execute_result"
    }
   ],
   "source": [
    "brfc_report_df = brfc_df.drop('support', axis=1)\n",
    "brfc_report_df = brfc_report_df.head(3)\n",
    "brfc_report_df = brfc_report_df.rename(columns={'precision': 'brfc_precision', \n",
    "                                  'recall': 'brfc_recall', \n",
    "                                  'f1-score': 'brfc_f1-score'})\n",
    "brfc_report_df\n"
   ]
  },
  {
   "cell_type": "markdown",
   "id": "99558e8d",
   "metadata": {},
   "source": [
    "## 2.Bernoulli Naive Bayes"
   ]
  },
  {
   "cell_type": "code",
   "execution_count": 24,
   "id": "3d2596fe",
   "metadata": {},
   "outputs": [],
   "source": [
    "BNBmodel = BernoulliNB()\n",
    "BNBmodel.fit(X_train, y_train)\n",
    "y_pred2 = BNBmodel.predict(X_test)"
   ]
  },
  {
   "cell_type": "code",
   "execution_count": 25,
   "id": "d4cabf9c",
   "metadata": {},
   "outputs": [
    {
     "data": {
      "text/plain": [
       "0.5655555555555556"
      ]
     },
     "execution_count": 25,
     "metadata": {},
     "output_type": "execute_result"
    }
   ],
   "source": [
    "# Calculated the balanced accuracy score\n",
    "from sklearn.metrics import balanced_accuracy_score\n",
    "balanced_accuracy_score(y_test, y_pred2)"
   ]
  },
  {
   "cell_type": "code",
   "execution_count": 26,
   "id": "102bb573",
   "metadata": {},
   "outputs": [
    {
     "name": "stdout",
     "output_type": "stream",
     "text": [
      "Classification Report\n",
      "              precision    recall  f1-score   support\n",
      "\n",
      "    anti-gun       0.59      0.68      0.63       100\n",
      "     neutral       0.45      0.42      0.43        60\n",
      "     pro-gun       0.68      0.60      0.64        90\n",
      "\n",
      "    accuracy                           0.59       250\n",
      "   macro avg       0.57      0.57      0.57       250\n",
      "weighted avg       0.59      0.59      0.59       250\n",
      "\n"
     ]
    }
   ],
   "source": [
    "from sklearn.metrics import balanced_accuracy_score, classification_report\n",
    "print(\"Classification Report\")\n",
    "print(classification_report(y_test, y_pred2))"
   ]
  },
  {
   "cell_type": "code",
   "execution_count": 27,
   "id": "9b893362",
   "metadata": {},
   "outputs": [
    {
     "data": {
      "text/html": [
       "<div>\n",
       "<style scoped>\n",
       "    .dataframe tbody tr th:only-of-type {\n",
       "        vertical-align: middle;\n",
       "    }\n",
       "\n",
       "    .dataframe tbody tr th {\n",
       "        vertical-align: top;\n",
       "    }\n",
       "\n",
       "    .dataframe thead th {\n",
       "        text-align: right;\n",
       "    }\n",
       "</style>\n",
       "<table border=\"1\" class=\"dataframe\">\n",
       "  <thead>\n",
       "    <tr style=\"text-align: right;\">\n",
       "      <th></th>\n",
       "      <th>precision</th>\n",
       "      <th>recall</th>\n",
       "      <th>f1-score</th>\n",
       "      <th>support</th>\n",
       "    </tr>\n",
       "  </thead>\n",
       "  <tbody>\n",
       "    <tr>\n",
       "      <th>anti-gun</th>\n",
       "      <td>0.591304</td>\n",
       "      <td>0.680000</td>\n",
       "      <td>0.632558</td>\n",
       "      <td>100.000</td>\n",
       "    </tr>\n",
       "    <tr>\n",
       "      <th>neutral</th>\n",
       "      <td>0.446429</td>\n",
       "      <td>0.416667</td>\n",
       "      <td>0.431034</td>\n",
       "      <td>60.000</td>\n",
       "    </tr>\n",
       "    <tr>\n",
       "      <th>pro-gun</th>\n",
       "      <td>0.683544</td>\n",
       "      <td>0.600000</td>\n",
       "      <td>0.639053</td>\n",
       "      <td>90.000</td>\n",
       "    </tr>\n",
       "    <tr>\n",
       "      <th>accuracy</th>\n",
       "      <td>0.588000</td>\n",
       "      <td>0.588000</td>\n",
       "      <td>0.588000</td>\n",
       "      <td>0.588</td>\n",
       "    </tr>\n",
       "    <tr>\n",
       "      <th>macro avg</th>\n",
       "      <td>0.573759</td>\n",
       "      <td>0.565556</td>\n",
       "      <td>0.567549</td>\n",
       "      <td>250.000</td>\n",
       "    </tr>\n",
       "    <tr>\n",
       "      <th>weighted avg</th>\n",
       "      <td>0.589741</td>\n",
       "      <td>0.588000</td>\n",
       "      <td>0.586531</td>\n",
       "      <td>250.000</td>\n",
       "    </tr>\n",
       "  </tbody>\n",
       "</table>\n",
       "</div>"
      ],
      "text/plain": [
       "              precision    recall  f1-score  support\n",
       "anti-gun       0.591304  0.680000  0.632558  100.000\n",
       "neutral        0.446429  0.416667  0.431034   60.000\n",
       "pro-gun        0.683544  0.600000  0.639053   90.000\n",
       "accuracy       0.588000  0.588000  0.588000    0.588\n",
       "macro avg      0.573759  0.565556  0.567549  250.000\n",
       "weighted avg   0.589741  0.588000  0.586531  250.000"
      ]
     },
     "execution_count": 27,
     "metadata": {},
     "output_type": "execute_result"
    }
   ],
   "source": [
    "report2 = classification_report(y_test, y_pred2, output_dict=True)\n",
    "bnb_df = pd.DataFrame(report2).transpose()\n",
    "bnb_df\n"
   ]
  },
  {
   "cell_type": "code",
   "execution_count": 28,
   "id": "7ccff0f2",
   "metadata": {},
   "outputs": [
    {
     "data": {
      "text/html": [
       "<div>\n",
       "<style scoped>\n",
       "    .dataframe tbody tr th:only-of-type {\n",
       "        vertical-align: middle;\n",
       "    }\n",
       "\n",
       "    .dataframe tbody tr th {\n",
       "        vertical-align: top;\n",
       "    }\n",
       "\n",
       "    .dataframe thead th {\n",
       "        text-align: right;\n",
       "    }\n",
       "</style>\n",
       "<table border=\"1\" class=\"dataframe\">\n",
       "  <thead>\n",
       "    <tr style=\"text-align: right;\">\n",
       "      <th></th>\n",
       "      <th>bnb_precision</th>\n",
       "      <th>bnb_recall</th>\n",
       "      <th>bnb_f1-score</th>\n",
       "    </tr>\n",
       "  </thead>\n",
       "  <tbody>\n",
       "    <tr>\n",
       "      <th>anti-gun</th>\n",
       "      <td>0.591304</td>\n",
       "      <td>0.680000</td>\n",
       "      <td>0.632558</td>\n",
       "    </tr>\n",
       "    <tr>\n",
       "      <th>neutral</th>\n",
       "      <td>0.446429</td>\n",
       "      <td>0.416667</td>\n",
       "      <td>0.431034</td>\n",
       "    </tr>\n",
       "    <tr>\n",
       "      <th>pro-gun</th>\n",
       "      <td>0.683544</td>\n",
       "      <td>0.600000</td>\n",
       "      <td>0.639053</td>\n",
       "    </tr>\n",
       "  </tbody>\n",
       "</table>\n",
       "</div>"
      ],
      "text/plain": [
       "          bnb_precision  bnb_recall  bnb_f1-score\n",
       "anti-gun       0.591304    0.680000      0.632558\n",
       "neutral        0.446429    0.416667      0.431034\n",
       "pro-gun        0.683544    0.600000      0.639053"
      ]
     },
     "execution_count": 28,
     "metadata": {},
     "output_type": "execute_result"
    }
   ],
   "source": [
    "bnb_report_df = bnb_df.drop('support', axis=1)\n",
    "bnb_report_df = bnb_report_df.head(3)\n",
    "bnb_report_df = bnb_report_df.rename(columns={'precision': 'bnb_precision', \n",
    "                                  'recall': 'bnb_recall', \n",
    "                                  'f1-score': 'bnb_f1-score'})\n",
    "bnb_report_df\n"
   ]
  },
  {
   "cell_type": "markdown",
   "id": "919cafd6",
   "metadata": {},
   "source": [
    "## 3. Multinomial NB"
   ]
  },
  {
   "cell_type": "code",
   "execution_count": 29,
   "id": "f2cc4449",
   "metadata": {},
   "outputs": [],
   "source": [
    "from sklearn.naive_bayes import MultinomialNB\n",
    "\n",
    "# Instantiate a Multinomial Naive Bayes classifier: nb_classifier\n",
    "cnb_classifier = MultinomialNB()\n",
    "\n",
    "# Fit the classifier to the training data\n",
    "cnb_classifier.fit(X_train, y_train)\n",
    "y_pred3 = cnb_classifier.predict(X_test)"
   ]
  },
  {
   "cell_type": "code",
   "execution_count": 30,
   "id": "c7257f2a",
   "metadata": {},
   "outputs": [
    {
     "data": {
      "text/plain": [
       "0.5655555555555555"
      ]
     },
     "execution_count": 30,
     "metadata": {},
     "output_type": "execute_result"
    }
   ],
   "source": [
    "# Calculated the balanced accuracy score\n",
    "from sklearn.metrics import balanced_accuracy_score\n",
    "balanced_accuracy_score(y_test, y_pred3)"
   ]
  },
  {
   "cell_type": "code",
   "execution_count": 31,
   "id": "4f282566",
   "metadata": {},
   "outputs": [
    {
     "name": "stdout",
     "output_type": "stream",
     "text": [
      "Classification Report\n",
      "              precision    recall  f1-score   support\n",
      "\n",
      "    anti-gun       0.63      0.73      0.68       100\n",
      "     neutral       0.43      0.33      0.38        60\n",
      "     pro-gun       0.64      0.63      0.64        90\n",
      "\n",
      "    accuracy                           0.60       250\n",
      "   macro avg       0.57      0.57      0.56       250\n",
      "weighted avg       0.59      0.60      0.59       250\n",
      "\n"
     ]
    }
   ],
   "source": [
    "from sklearn.metrics import balanced_accuracy_score, classification_report\n",
    "print(\"Classification Report\")\n",
    "print(classification_report(y_test, y_pred3))"
   ]
  },
  {
   "cell_type": "code",
   "execution_count": 32,
   "id": "a2526e3e",
   "metadata": {},
   "outputs": [
    {
     "data": {
      "text/html": [
       "<div>\n",
       "<style scoped>\n",
       "    .dataframe tbody tr th:only-of-type {\n",
       "        vertical-align: middle;\n",
       "    }\n",
       "\n",
       "    .dataframe tbody tr th {\n",
       "        vertical-align: top;\n",
       "    }\n",
       "\n",
       "    .dataframe thead th {\n",
       "        text-align: right;\n",
       "    }\n",
       "</style>\n",
       "<table border=\"1\" class=\"dataframe\">\n",
       "  <thead>\n",
       "    <tr style=\"text-align: right;\">\n",
       "      <th></th>\n",
       "      <th>precision</th>\n",
       "      <th>recall</th>\n",
       "      <th>f1-score</th>\n",
       "      <th>support</th>\n",
       "    </tr>\n",
       "  </thead>\n",
       "  <tbody>\n",
       "    <tr>\n",
       "      <th>anti-gun</th>\n",
       "      <td>0.634783</td>\n",
       "      <td>0.730000</td>\n",
       "      <td>0.679070</td>\n",
       "      <td>100.0</td>\n",
       "    </tr>\n",
       "    <tr>\n",
       "      <th>neutral</th>\n",
       "      <td>0.434783</td>\n",
       "      <td>0.333333</td>\n",
       "      <td>0.377358</td>\n",
       "      <td>60.0</td>\n",
       "    </tr>\n",
       "    <tr>\n",
       "      <th>pro-gun</th>\n",
       "      <td>0.640449</td>\n",
       "      <td>0.633333</td>\n",
       "      <td>0.636872</td>\n",
       "      <td>90.0</td>\n",
       "    </tr>\n",
       "    <tr>\n",
       "      <th>accuracy</th>\n",
       "      <td>0.600000</td>\n",
       "      <td>0.600000</td>\n",
       "      <td>0.600000</td>\n",
       "      <td>0.6</td>\n",
       "    </tr>\n",
       "    <tr>\n",
       "      <th>macro avg</th>\n",
       "      <td>0.570005</td>\n",
       "      <td>0.565556</td>\n",
       "      <td>0.564433</td>\n",
       "      <td>250.0</td>\n",
       "    </tr>\n",
       "    <tr>\n",
       "      <th>weighted avg</th>\n",
       "      <td>0.588823</td>\n",
       "      <td>0.600000</td>\n",
       "      <td>0.591468</td>\n",
       "      <td>250.0</td>\n",
       "    </tr>\n",
       "  </tbody>\n",
       "</table>\n",
       "</div>"
      ],
      "text/plain": [
       "              precision    recall  f1-score  support\n",
       "anti-gun       0.634783  0.730000  0.679070    100.0\n",
       "neutral        0.434783  0.333333  0.377358     60.0\n",
       "pro-gun        0.640449  0.633333  0.636872     90.0\n",
       "accuracy       0.600000  0.600000  0.600000      0.6\n",
       "macro avg      0.570005  0.565556  0.564433    250.0\n",
       "weighted avg   0.588823  0.600000  0.591468    250.0"
      ]
     },
     "execution_count": 32,
     "metadata": {},
     "output_type": "execute_result"
    }
   ],
   "source": [
    "report3 = classification_report(y_test, y_pred3, output_dict=True)\n",
    "mnb_df = pd.DataFrame(report3).transpose()\n",
    "mnb_df\n"
   ]
  },
  {
   "cell_type": "code",
   "execution_count": 33,
   "id": "319d80b2",
   "metadata": {},
   "outputs": [
    {
     "data": {
      "text/html": [
       "<div>\n",
       "<style scoped>\n",
       "    .dataframe tbody tr th:only-of-type {\n",
       "        vertical-align: middle;\n",
       "    }\n",
       "\n",
       "    .dataframe tbody tr th {\n",
       "        vertical-align: top;\n",
       "    }\n",
       "\n",
       "    .dataframe thead th {\n",
       "        text-align: right;\n",
       "    }\n",
       "</style>\n",
       "<table border=\"1\" class=\"dataframe\">\n",
       "  <thead>\n",
       "    <tr style=\"text-align: right;\">\n",
       "      <th></th>\n",
       "      <th>mnb_precision</th>\n",
       "      <th>mnb_recall</th>\n",
       "      <th>mnb_f1-score</th>\n",
       "    </tr>\n",
       "  </thead>\n",
       "  <tbody>\n",
       "    <tr>\n",
       "      <th>anti-gun</th>\n",
       "      <td>0.634783</td>\n",
       "      <td>0.730000</td>\n",
       "      <td>0.679070</td>\n",
       "    </tr>\n",
       "    <tr>\n",
       "      <th>neutral</th>\n",
       "      <td>0.434783</td>\n",
       "      <td>0.333333</td>\n",
       "      <td>0.377358</td>\n",
       "    </tr>\n",
       "    <tr>\n",
       "      <th>pro-gun</th>\n",
       "      <td>0.640449</td>\n",
       "      <td>0.633333</td>\n",
       "      <td>0.636872</td>\n",
       "    </tr>\n",
       "  </tbody>\n",
       "</table>\n",
       "</div>"
      ],
      "text/plain": [
       "          mnb_precision  mnb_recall  mnb_f1-score\n",
       "anti-gun       0.634783    0.730000      0.679070\n",
       "neutral        0.434783    0.333333      0.377358\n",
       "pro-gun        0.640449    0.633333      0.636872"
      ]
     },
     "execution_count": 33,
     "metadata": {},
     "output_type": "execute_result"
    }
   ],
   "source": [
    "mnb_report_df = mnb_df.drop('support', axis=1)\n",
    "mnb_report_df = mnb_report_df.head(3)\n",
    "mnb_report_df = mnb_report_df.rename(columns={'precision': 'mnb_precision', \n",
    "                                  'recall': 'mnb_recall', \n",
    "                                  'f1-score': 'mnb_f1-score'})\n",
    "mnb_report_df\n"
   ]
  },
  {
   "cell_type": "markdown",
   "id": "291507f1",
   "metadata": {},
   "source": [
    "***\n",
    "\n",
    "# Compare Classification Reports from 3 ML Models\n"
   ]
  },
  {
   "cell_type": "markdown",
   "id": "9225e973",
   "metadata": {},
   "source": [
    "## Precision Comparison\n"
   ]
  },
  {
   "cell_type": "code",
   "execution_count": 34,
   "id": "cb35353d",
   "metadata": {},
   "outputs": [
    {
     "data": {
      "text/html": [
       "<div>\n",
       "<style scoped>\n",
       "    .dataframe tbody tr th:only-of-type {\n",
       "        vertical-align: middle;\n",
       "    }\n",
       "\n",
       "    .dataframe tbody tr th {\n",
       "        vertical-align: top;\n",
       "    }\n",
       "\n",
       "    .dataframe thead th {\n",
       "        text-align: right;\n",
       "    }\n",
       "</style>\n",
       "<table border=\"1\" class=\"dataframe\">\n",
       "  <thead>\n",
       "    <tr style=\"text-align: right;\">\n",
       "      <th></th>\n",
       "      <th>brfc_precision</th>\n",
       "      <th>bnb_precision</th>\n",
       "      <th>mnb_precision</th>\n",
       "    </tr>\n",
       "  </thead>\n",
       "  <tbody>\n",
       "    <tr>\n",
       "      <th>anti-gun</th>\n",
       "      <td>0.722892</td>\n",
       "      <td>0.591304</td>\n",
       "      <td>0.634783</td>\n",
       "    </tr>\n",
       "    <tr>\n",
       "      <th>neutral</th>\n",
       "      <td>0.438095</td>\n",
       "      <td>0.446429</td>\n",
       "      <td>0.434783</td>\n",
       "    </tr>\n",
       "    <tr>\n",
       "      <th>pro-gun</th>\n",
       "      <td>0.774194</td>\n",
       "      <td>0.683544</td>\n",
       "      <td>0.640449</td>\n",
       "    </tr>\n",
       "  </tbody>\n",
       "</table>\n",
       "</div>"
      ],
      "text/plain": [
       "          brfc_precision  bnb_precision  mnb_precision\n",
       "anti-gun        0.722892       0.591304       0.634783\n",
       "neutral         0.438095       0.446429       0.434783\n",
       "pro-gun         0.774194       0.683544       0.640449"
      ]
     },
     "execution_count": 34,
     "metadata": {},
     "output_type": "execute_result"
    }
   ],
   "source": [
    "precision_comp_df = pd.concat((brfc_report_df['brfc_precision'], \n",
    "                              bnb_report_df['bnb_precision'], \n",
    "                              mnb_report_df['mnb_precision']), \n",
    "                              axis=1, \n",
    "                              keys=['brfc_precision', 'bnb_precision', 'mnb_precision'])\n",
    "precision_comp_df\n"
   ]
  },
  {
   "cell_type": "code",
   "execution_count": 35,
   "id": "786f1749",
   "metadata": {},
   "outputs": [
    {
     "data": {
      "image/png": "[encoded data removed]",
      "text/plain": [
       "<Figure size 640x480 with 1 Axes>"
      ]
     },
     "metadata": {},
     "output_type": "display_data"
    },
    {
     "data": {
      "text/plain": [
       "<Figure size 640x480 with 0 Axes>"
      ]
     },
     "metadata": {},
     "output_type": "display_data"
    }
   ],
   "source": [
    "precision_comp_df[['brfc_precision', \n",
    "                   'bnb_precision', \n",
    "                   'mnb_precision']].plot(kind=\"bar\", \n",
    "                                           color=['forestgreen', 'mediumblue', 'tomato'])\n",
    "\n",
    "# Set textual properties\n",
    "plt.title(\"ML Precision Comparison (Initial Dataset)\")\n",
    "plt.ylabel(\"Precision Values\")\n",
    "plt.xlabel(\"Sentiment\")\n",
    "plt.xticks(rotation=45)\n",
    "\n",
    "# Set axis\n",
    "ax = plt.gca()\n",
    "ax.set_ylim([0, 0.8])\n",
    "\n",
    "# Show plot\n",
    "plt.legend(bbox_to_anchor=(1.05, 1), loc='upper left', borderaxespad=0)\n",
    "plt.show()\n",
    "\n",
    "# Resize plot to display labels\n",
    "plt.tight_layout()\n"
   ]
  },
  {
   "cell_type": "markdown",
   "id": "3aa85cda",
   "metadata": {},
   "source": [
    "## Recall Comparison\n"
   ]
  },
  {
   "cell_type": "code",
   "execution_count": 36,
   "id": "af04c4c4",
   "metadata": {},
   "outputs": [
    {
     "data": {
      "text/html": [
       "<div>\n",
       "<style scoped>\n",
       "    .dataframe tbody tr th:only-of-type {\n",
       "        vertical-align: middle;\n",
       "    }\n",
       "\n",
       "    .dataframe tbody tr th {\n",
       "        vertical-align: top;\n",
       "    }\n",
       "\n",
       "    .dataframe thead th {\n",
       "        text-align: right;\n",
       "    }\n",
       "</style>\n",
       "<table border=\"1\" class=\"dataframe\">\n",
       "  <thead>\n",
       "    <tr style=\"text-align: right;\">\n",
       "      <th></th>\n",
       "      <th>brfc_recall</th>\n",
       "      <th>bnb_recall</th>\n",
       "      <th>mnb_recall</th>\n",
       "    </tr>\n",
       "  </thead>\n",
       "  <tbody>\n",
       "    <tr>\n",
       "      <th>anti-gun</th>\n",
       "      <td>0.600000</td>\n",
       "      <td>0.680000</td>\n",
       "      <td>0.730000</td>\n",
       "    </tr>\n",
       "    <tr>\n",
       "      <th>neutral</th>\n",
       "      <td>0.766667</td>\n",
       "      <td>0.416667</td>\n",
       "      <td>0.333333</td>\n",
       "    </tr>\n",
       "    <tr>\n",
       "      <th>pro-gun</th>\n",
       "      <td>0.533333</td>\n",
       "      <td>0.600000</td>\n",
       "      <td>0.633333</td>\n",
       "    </tr>\n",
       "  </tbody>\n",
       "</table>\n",
       "</div>"
      ],
      "text/plain": [
       "          brfc_recall  bnb_recall  mnb_recall\n",
       "anti-gun     0.600000    0.680000    0.730000\n",
       "neutral      0.766667    0.416667    0.333333\n",
       "pro-gun      0.533333    0.600000    0.633333"
      ]
     },
     "execution_count": 36,
     "metadata": {},
     "output_type": "execute_result"
    }
   ],
   "source": [
    "recall_comp_df = pd.concat((brfc_report_df['brfc_recall'], \n",
    "                              bnb_report_df['bnb_recall'], \n",
    "                              mnb_report_df['mnb_recall']), \n",
    "                              axis=1, \n",
    "                              keys=['brfc_recall', 'bnb_recall', 'mnb_recall'])\n",
    "recall_comp_df\n"
   ]
  },
  {
   "cell_type": "code",
   "execution_count": 37,
   "id": "d8c92ac1",
   "metadata": {},
   "outputs": [
    {
     "data": {
      "image/png": "[encoded data removed]",
      "text/plain": [
       "<Figure size 640x480 with 1 Axes>"
      ]
     },
     "metadata": {},
     "output_type": "display_data"
    },
    {
     "data": {
      "text/plain": [
       "<Figure size 640x480 with 0 Axes>"
      ]
     },
     "metadata": {},
     "output_type": "display_data"
    }
   ],
   "source": [
    "recall_comp_df[['brfc_recall', \n",
    "                'bnb_recall', \n",
    "                'mnb_recall']].plot(kind=\"bar\",\n",
    "                                     color=['forestgreen', 'mediumblue', 'tomato'])\n",
    "\n",
    "# Set textual properties\n",
    "plt.title(\"ML Recall Comparison (Initial Dataset)\")\n",
    "plt.ylabel(\"Recall Values\")\n",
    "plt.xlabel(\"Sentiment\")\n",
    "plt.xticks(rotation=45)\n",
    "\n",
    "# Set axis\n",
    "ax = plt.gca()\n",
    "ax.set_ylim([0, 0.8])\n",
    "\n",
    "# Show plot\n",
    "plt.legend(bbox_to_anchor=(1.05, 1), loc='upper left', borderaxespad=0)\n",
    "plt.show()\n",
    "\n",
    "# Resize plot to display labels\n",
    "plt.tight_layout()\n"
   ]
  },
  {
   "cell_type": "markdown",
   "id": "f02d31d9",
   "metadata": {},
   "source": [
    "## F1 Comparison\n"
   ]
  },
  {
   "cell_type": "code",
   "execution_count": 38,
   "id": "0844623a",
   "metadata": {},
   "outputs": [
    {
     "data": {
      "text/html": [
       "<div>\n",
       "<style scoped>\n",
       "    .dataframe tbody tr th:only-of-type {\n",
       "        vertical-align: middle;\n",
       "    }\n",
       "\n",
       "    .dataframe tbody tr th {\n",
       "        vertical-align: top;\n",
       "    }\n",
       "\n",
       "    .dataframe thead th {\n",
       "        text-align: right;\n",
       "    }\n",
       "</style>\n",
       "<table border=\"1\" class=\"dataframe\">\n",
       "  <thead>\n",
       "    <tr style=\"text-align: right;\">\n",
       "      <th></th>\n",
       "      <th>brfc_f1_score</th>\n",
       "      <th>bnb_f1_score</th>\n",
       "      <th>mnb_f1_score</th>\n",
       "    </tr>\n",
       "  </thead>\n",
       "  <tbody>\n",
       "    <tr>\n",
       "      <th>anti-gun</th>\n",
       "      <td>0.655738</td>\n",
       "      <td>0.632558</td>\n",
       "      <td>0.679070</td>\n",
       "    </tr>\n",
       "    <tr>\n",
       "      <th>neutral</th>\n",
       "      <td>0.557576</td>\n",
       "      <td>0.431034</td>\n",
       "      <td>0.377358</td>\n",
       "    </tr>\n",
       "    <tr>\n",
       "      <th>pro-gun</th>\n",
       "      <td>0.631579</td>\n",
       "      <td>0.639053</td>\n",
       "      <td>0.636872</td>\n",
       "    </tr>\n",
       "  </tbody>\n",
       "</table>\n",
       "</div>"
      ],
      "text/plain": [
       "          brfc_f1_score  bnb_f1_score  mnb_f1_score\n",
       "anti-gun       0.655738      0.632558      0.679070\n",
       "neutral        0.557576      0.431034      0.377358\n",
       "pro-gun        0.631579      0.639053      0.636872"
      ]
     },
     "execution_count": 38,
     "metadata": {},
     "output_type": "execute_result"
    }
   ],
   "source": [
    "f1_comp_df = pd.concat((brfc_report_df['brfc_f1-score'], \n",
    "                              bnb_report_df['bnb_f1-score'], \n",
    "                              mnb_report_df['mnb_f1-score']), \n",
    "                              axis=1, \n",
    "                              keys=['brfc_f1_score', 'bnb_f1_score', 'mnb_f1_score'])\n",
    "f1_comp_df\n"
   ]
  },
  {
   "cell_type": "code",
   "execution_count": 39,
   "id": "a5a43589",
   "metadata": {},
   "outputs": [
    {
     "data": {
      "image/png": "[encoded data removed]",
      "text/plain": [
       "<Figure size 640x480 with 1 Axes>"
      ]
     },
     "metadata": {},
     "output_type": "display_data"
    },
    {
     "data": {
      "text/plain": [
       "<Figure size 640x480 with 0 Axes>"
      ]
     },
     "metadata": {},
     "output_type": "display_data"
    }
   ],
   "source": [
    "f1_comp_df[['brfc_f1_score', \n",
    "            'bnb_f1_score', \n",
    "            'mnb_f1_score']].plot(kind=\"bar\", \n",
    "                                  color=['forestgreen', 'mediumblue', 'tomato'])\n",
    "\n",
    "# Set textual properties\n",
    "plt.title(\"ML F1-Score Comparison (Initial Dataset)\")\n",
    "plt.ylabel(\"F1 Score\")\n",
    "plt.xlabel(\"Sentiment\")\n",
    "plt.xticks(rotation=45)\n",
    "\n",
    "# Set axis\n",
    "ax = plt.gca()\n",
    "ax.set_ylim([0, 0.8])\n",
    "\n",
    "# Show plot\n",
    "plt.legend(bbox_to_anchor=(1.05, 1), loc='upper left', borderaxespad=0)\n",
    "plt.show()\n",
    "\n",
    "# Resize plot to display labels\n",
    "plt.tight_layout()\n"
   ]
  },
  {
   "cell_type": "code",
   "execution_count": null,
   "id": "710a1b4f",
   "metadata": {},
   "outputs": [],
   "source": []
  }
 ],
 "metadata": {
  "kernelspec": {
   "display_name": "sentiment",
   "language": "python",
   "name": "sentiment"
  },
  "language_info": {
   "codemirror_mode": {
    "name": "ipython",
    "version": 3
   },
   "file_extension": ".py",
   "mimetype": "text/x-python",
   "name": "python",
   "nbconvert_exporter": "python",
   "pygments_lexer": "ipython3",
   "version": "3.9.13"
  }
 },
 "nbformat": 4,
 "nbformat_minor": 5
}
