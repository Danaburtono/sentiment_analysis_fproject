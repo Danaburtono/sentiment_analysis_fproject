{
 "cells": [
  {
   "cell_type": "code",
   "execution_count": 3,
   "metadata": {
    "colab": {
     "base_uri": "https://localhost:8080/"
    },
    "id": "AdIdLWp5YRlR",
    "outputId": "f67cc45c-3c91-4395-c027-9f4a7ba9cfb5"
   },
   "outputs": [
    {
     "name": "stdout",
     "output_type": "stream",
     "text": [
      "Get:1 http://security.ubuntu.com/ubuntu bionic-security InRelease [88.7 kB]\n",
      "Hit:2 http://archive.ubuntu.com/ubuntu bionic InRelease                        \n",
      "Get:3 http://archive.ubuntu.com/ubuntu bionic-updates InRelease [88.7 kB]      \n",
      "Get:4 https://cloud.r-project.org/bin/linux/ubuntu bionic-cran40/ InRelease [3,626 B]\n",
      "Get:5 http://archive.ubuntu.com/ubuntu bionic-backports InRelease [83.3 kB]\n",
      "Get:6 http://ppa.launchpad.net/c2d4u.team/c2d4u4.0+/ubuntu bionic InRelease [15.9 kB]\n",
      "Ign:7 https://developer.download.nvidia.com/compute/machine-learning/repos/ubuntu1804/x86_64  InRelease\n",
      "Hit:8 https://developer.download.nvidia.com/compute/cuda/repos/ubuntu1804/x86_64  InRelease\n",
      "Hit:9 https://developer.download.nvidia.com/compute/machine-learning/repos/ubuntu1804/x86_64  Release\n",
      "Hit:10 http://ppa.launchpad.net/cran/libgit2/ubuntu bionic InRelease\n",
      "Hit:11 http://ppa.launchpad.net/deadsnakes/ppa/ubuntu bionic InRelease\n",
      "Get:12 http://security.ubuntu.com/ubuntu bionic-security/universe amd64 Packages [1,554 kB]\n",
      "Hit:13 http://ppa.launchpad.net/graphics-drivers/ppa/ubuntu bionic InRelease\n",
      "Get:14 http://security.ubuntu.com/ubuntu bionic-security/main amd64 Packages [3,040 kB]\n",
      "Get:15 https://cloud.r-project.org/bin/linux/ubuntu bionic-cran40/ Packages [101 kB]\n",
      "Get:16 http://archive.ubuntu.com/ubuntu bionic-updates/main amd64 Packages [3,472 kB]\n",
      "Get:17 http://archive.ubuntu.com/ubuntu bionic-updates/universe amd64 Packages [2,332 kB]\n",
      "Get:18 http://ppa.launchpad.net/c2d4u.team/c2d4u4.0+/ubuntu bionic/main Sources [2,217 kB]\n",
      "Get:20 http://ppa.launchpad.net/c2d4u.team/c2d4u4.0+/ubuntu bionic/main amd64 Packages [1,134 kB]\n",
      "Fetched 14.1 MB in 3s (4,151 kB/s)\n",
      "Reading package lists... Done\n"
     ]
    }
   ],
   "source": [
    "import os\n",
    "# Find the latest version of spark 3.0 from http://www.apache.org/dist/spark/ and enter as the spark version\n",
    "# For example:\n",
    "# spark_version = 'spark-3.2.2'\n",
    "spark_version = 'spark-3.2.2'\n",
    "os.environ['SPARK_VERSION']=spark_version\n",
    "\n",
    "# Install Spark and Java\n",
    "!apt-get update\n",
    "!apt-get install openjdk-11-jdk-headless -qq > /dev/null\n",
    "!wget -q http://www.apache.org/dist/spark/$SPARK_VERSION/$SPARK_VERSION-bin-hadoop2.7.tgz\n",
    "!tar xf $SPARK_VERSION-bin-hadoop2.7.tgz\n",
    "!pip install -q findspark\n",
    "\n",
    "# Set Environment Variables\n",
    "import os\n",
    "os.environ[\"JAVA_HOME\"] = \"/usr/lib/jvm/java-11-openjdk-amd64\"\n",
    "os.environ[\"SPARK_HOME\"] = f\"/content/{spark_version}-bin-hadoop2.7\"\n",
    "\n",
    "# Start a SparkSession\n",
    "import findspark\n",
    "findspark.init()"
   ]
  },
  {
   "cell_type": "code",
   "execution_count": 4,
   "metadata": {
    "colab": {
     "base_uri": "https://localhost:8080/"
    },
    "id": "v3UGaiMVfRZz",
    "outputId": "6694cbd3-3583-4e8d-9caa-ea48a9c9d8ba"
   },
   "outputs": [
    {
     "name": "stdout",
     "output_type": "stream",
     "text": [
      "--2022-11-14 06:16:41--  https://jdbc.postgresql.org/download/postgresql-42.2.16.jar\n",
      "Resolving jdbc.postgresql.org (jdbc.postgresql.org)... 72.32.157.228, 2001:4800:3e1:1::228\n",
      "Connecting to jdbc.postgresql.org (jdbc.postgresql.org)|72.32.157.228|:443... connected.\n",
      "HTTP request sent, awaiting response... 200 OK\n",
      "Length: 1002883 (979K) [application/java-archive]\n",
      "Saving to: ‘postgresql-42.2.16.jar’\n",
      "\n",
      "postgresql-42.2.16. 100%[===================>] 979.38K  5.56MB/s    in 0.2s    \n",
      "\n",
      "2022-11-14 06:16:41 (5.56 MB/s) - ‘postgresql-42.2.16.jar’ saved [1002883/1002883]\n",
      "\n"
     ]
    }
   ],
   "source": [
    "# Download Postgres Driver\n",
    "!wget https://jdbc.postgresql.org/download/postgresql-42.2.16.jar"
   ]
  },
  {
   "cell_type": "code",
   "execution_count": 5,
   "metadata": {
    "id": "PxQ2o3Z2fU0z"
   },
   "outputs": [],
   "source": [
    "# Import SparkSession\n",
    "from pyspark.sql import SparkSession\n",
    "# Start Spark Session with Added Postgres Driver\n",
    "spark = SparkSession.builder.appName(\"LoadDB\").config(\"spark.driver.extraClassPath\",\"/content/postgresql-42.2.16.jar\").getOrCreate()"
   ]
  },
  {
   "cell_type": "code",
   "execution_count": 6,
   "metadata": {
    "id": "sjkIAsi-mGUl"
   },
   "outputs": [],
   "source": [
    "# Read in json data with user id from S3 Bucket\n",
    "from pyspark import SparkFiles\n",
    "url =\"https://gun-sentiment-analysis.s3.us-west-2.amazonaws.com/twitter_training_data/training_tweets_raw.json\"\n",
    "spark.sparkContext.addFile(url)\n",
    "raw_tweet_df = spark.read.json(SparkFiles.get(\"training_tweets_raw.json\"))"
   ]
  },
  {
   "cell_type": "code",
   "execution_count": 7,
   "metadata": {
    "colab": {
     "base_uri": "https://localhost:8080/"
    },
    "id": "UNwwUnk9kQ3I",
    "outputId": "5a954bcc-832c-4c00-e70a-d5ba9e373106"
   },
   "outputs": [
    {
     "name": "stdout",
     "output_type": "stream",
     "text": [
      "+------------+-----------+--------------------+------------------+------------------+--------------------+--------+--------------------+--------------------+--------------------+--------------+---------+------------+----+-------------------+-------------------+-----------------------+---------------------+-------------------------+-------------------+-----------------------+---------------+----+--------------+-----+------------------+-----------+-----------+-------------+---------+------+--------------------+--------------------+---------+--------------------+\n",
      "|contributors|coordinates|          created_at|display_text_range|     edit_controls|        edit_history|editable|            entities|   extended_entities|      extended_tweet|favorite_count|favorited|filter_level| geo|                 id|             id_str|in_reply_to_screen_name|in_reply_to_status_id|in_reply_to_status_id_str|in_reply_to_user_id|in_reply_to_user_id_str|is_quote_status|lang|matching_rules|place|possibly_sensitive|quote_count|reply_count|retweet_count|retweeted|scopes|              source|                text|truncated|                user|\n",
      "+------------+-----------+--------------------+------------------+------------------+--------------------+--------+--------------------+--------------------+--------------------+--------------+---------+------------+----+-------------------+-------------------+-----------------------+---------------------+-------------------------+-------------------+-----------------------+---------------+----+--------------+-----+------------------+-----------+-----------+-------------+---------+------+--------------------+--------------------+---------+--------------------+\n",
      "|        null|       null|Wed Nov 02 23:59:...|         [39, 140]|{1667435395000, 5}|{[158795770816642...|   false|{[], null, null, ...|                null|{[39, 207], {[], ...|             0|    false|         low|null|1587957708166426625|1587957708166426625|              PapiiDev_|  1587942628078669824|      1587942628078669824|          542245955|              542245955|          false|  en|      [{null}]| null|              null|          0|          1|            0|    false|  null|<a href=\"http://t...|@PapiiDev_ @aaron...|     true|{false, Sun Jul 0...|\n",
      "|        null|       null|Wed Nov 02 23:59:...|          [15, 47]|{1667435383000, 5}|{[158795766108517...|   false|{[], null, null, ...|                null|                null|             2|    false|         low|null|1587957661085171712|1587957661085171712|          watertigernyc|  1587951978461659137|      1587951978461659137|           57629219|               57629219|          false|  en|      [{null}]| null|              null|          0|          0|            0|    false|  null|<a href=\"http://t...|@watertigernyc He...|    false|{false, Fri Jan 1...|\n",
      "|        null|       null|Wed Nov 02 23:58:...|              null|{1667435331000, 5}|{[158795744049414...|    true|{[], null, null, ...|                null|                null|             0|    false|         low|null|1587957440494141441|1587957440494141441|                   null|                 null|                     null|               null|                   null|          false|  en|      [{null}]| null|             false|          0|          0|            0|    false|  null|<a href=\"https://...|.@KaneGovernment ...|    false|{false, Thu Jan 2...|\n",
      "|        null|       null|Wed Nov 02 23:58:...|         [59, 140]|{1667435328000, 5}|{[158795742782334...|   false|{[], null, null, ...|                null|{[59, 164], {[], ...|             0|    false|         low|null|1587957427823349760|1587957427823349760|              thediva76|  1587955911426854912|      1587955911426854912|           34189407|               34189407|          false|  en|      [{null}]| null|             false|          0|          1|            0|    false|  null|<a href=\"http://t...|@thediva76 @iamja...|     true|{false, Sun Sep 1...|\n",
      "|        null|       null|Wed Nov 02 23:58:...|              null|{1667435321000, 5}|{[158795739742284...|    true|{[], null, null, ...|                null|{[0, 156], {[], n...|             0|    false|         low|null|1587957397422841861|1587957397422841861|                   null|                 null|                     null|               null|                   null|          false|  en|      [{null}]| null|              null|          0|          0|            0|    false|  null|<a href=\"http://t...|HipHop needs to g...|     true|{false, Mon Sep 0...|\n",
      "|        null|       null|Wed Nov 02 23:58:...|         [25, 127]|{1667435320000, 5}|{[158795739553961...|   false|{[], null, null, ...|                null|                null|            26|    false|         low|null|1587957395539611648|1587957395539611648|              bradlena1|  1587939411068866560|      1587939411068866560| 810262675439677440|     810262675439677440|          false|  en|      [{null}]| null|              null|          0|          0|            1|    false|  null|<a href=\"http://t...|@bradlena1 @Radio...|    false|{false, Fri May 1...|\n",
      "|        null|       null|Wed Nov 02 23:58:...|              null|{1667435318000, 5}|{[158795738750350...|    true|{[], null, null, ...|                null|{[0, 245], {[], n...|             0|    false|         low|null|1587957387503501312|1587957387503501312|                   null|                 null|                     null|               null|                   null|          false|  en|      [{null}]| null|              null|          0|          0|            0|    false|  null|<a href=\"http://t...|Iowans, Strict sc...|     true|{false, Sat Jul 1...|\n",
      "|        null|       null|Wed Nov 02 23:58:...|           [0, 56]|{1667435314000, 5}|{[158795736954320...|    true|{[], [{null, null...|{[{null, null, pi...|                null|             1|    false|         low|null|1587957369543204865|1587957369543204865|                   null|                 null|                     null|               null|                   null|          false|  en|      [{null}]| null|             false|          0|          0|            0|    false|  null|<a href=\"https://...|The 2nd Amendment...|    false|{false, Tue Oct 2...|\n",
      "|        null|       null|Wed Nov 02 23:58:...|         [25, 109]|{1667435312000, 5}|{[158795735963618...|   false|{[], null, null, ...|                null|                null|             0|    false|         low|null|1587957359636189185|1587957359636189185|             marla_vous|  1587889659463475202|      1587889659463475202| 938261383434637312|     938261383434637312|          false|  en|      [{null}]| null|              null|          0|          0|            0|    false|  null|<a href=\"http://t...|@marla_vous @Beto...|    false|{false, Fri Aug 2...|\n",
      "|        null|       null|Wed Nov 02 23:57:...|              null|{1667435278000, 5}|{[158795722050282...|    true|{[], null, null, ...|                null|                null|             0|    false|         low|null|1587957220502822912|1587957220502822912|                   null|                 null|                     null|               null|                   null|          false|  en|      [{null}]| null|             false|          0|          0|            0|    false|  null|<a href=\"https://...|A Federal Judge C...|    false|{false, Wed Oct 0...|\n",
      "|        null|       null|Wed Nov 02 23:57:...|         [13, 140]|{1667435272000, 5}|{[158795719444368...|   false|{[], null, null, ...|                null|{[13, 290], {[], ...|            31|    false|         low|null|1587957194443685889|1587957194443685889|            ClownWorld_|  1587952658186264576|      1587952658186264576|1446932149148344320|    1446932149148344320|          false|  en|      [{null}]| null|              null|          0|          0|            0|    false|  null|<a href=\"http://t...|@ClownWorld_ @rob...|     true|{false, Sat Oct 0...|\n",
      "|        null|       null|Wed Nov 02 23:57:...|          [13, 53]|{1667435249000, 5}|{[158795709904844...|   false|{[], null, null, ...|                null|                null|             0|    false|         low|null|1587957099048443904|1587957099048443904|            ClownWorld_|  1587866917594836992|      1587866917594836992|1446932149148344320|    1446932149148344320|          false|  en|      [{null}]| null|              null|          0|          0|            0|    false|  null|<a href=\"http://t...|@ClownWorld_ This...|    false|{false, Sat Feb 2...|\n",
      "|        null|       null|Wed Nov 02 23:57:...|              null|{1667435249000, 5}|{[158795709904827...|    true|{[], null, null, ...|                null|{[0, 276], {[], n...|             0|    false|         low|null|1587957099048275969|1587957099048275969|                   null|                 null|                     null|               null|                   null|          false|  en|      [{null}]| null|             false|          0|          0|            0|    false|  null|<a href=\"http://t...|What an idiotic h...|     true|{false, Tue Nov 1...|\n",
      "|        null|       null|Wed Nov 02 23:57:...|         [26, 106]|{1667435238000, 5}|{[158795705044049...|   false|{[], null, null, ...|                null|                null|             0|    false|         low|null|1587957050440491008|1587957050440491008|          laurenboebert|  1587905231672819717|      1587905231672819717|1201670995435646976|    1201670995435646976|          false|  en|      [{null}]| null|              null|          0|          0|            0|    false|  null|<a href=\"http://t...|@laurenboebert @G...|    false|{false, Mon Sep 1...|\n",
      "|        null|       null|Wed Nov 02 23:57:...|              null|{1667435237000, 5}|{[158795704578497...|    true|{[{[17, 23], MSNB...|                null|{[0, 231], {[{[17...|             0|    false|         low|null|1587957045784973312|1587957045784973312|              billmaher|                 null|                     null|           19697415|               19697415|          false|  en|      [{null}]| null|              null|          0|          0|            0|    false|  null|<a href=\"http://t...|@billmaher tells ...|     true|{false, Fri Feb 0...|\n",
      "|        null|       null|Wed Nov 02 23:57:...|          [9, 140]|{1667435231000, 5}|{[158795702298054...|   false|{[], null, null, ...|                null|{[9, 198], {[], n...|             0|    false|         low|null|1587957022980546560|1587957022980546560|                jilevin|  1587829423188938753|      1587829423188938753|           24733117|               24733117|          false|  en|      [{null}]| null|              null|          0|          0|            0|    false|  null|<a href=\"http://t...|@jilevin It’s cal...|     true|{false, Sun Apr 1...|\n",
      "|        null|       null|Wed Nov 02 23:57:...|         [11, 140]|{1667435230000, 5}|{[158795701855135...|   false|{[], null, null, ...|                null|{[11, 243], {[], ...|             6|    false|         low|null|1587957018551357443|1587957018551357443|              gunpolicy|  1587956309768523777|      1587956309768523777|          613397041|              613397041|          false|  en|      [{null}]| null|             false|          0|          1|            0|    false|  null|<a href=\"http://t...|@gunpolicy What d...|     true|{false, Thu Feb 1...|\n",
      "|        null|       null|Wed Nov 02 23:56:...|         [12, 140]|{1667435195000, 5}|{[158795687179246...|   false|{[], null, null, ...|                null|{[12, 144], {[], ...|             0|    false|         low|null|1587956871792467969|1587956871792467969|             SenTedCruz|  1587922016794877953|      1587922016794877953|         1074480192|             1074480192|          false|  en|      [{null}]| null|             false|          0|          0|            0|    false|  null|<a href=\"http://t...|@SenTedCruz Ted C...|     true|{false, Sat Aug 0...|\n",
      "|        null|       null|Wed Nov 02 23:56:...|         [11, 102]|{1667435186000, 5}|{[158795683374603...|   false|{[], null, null, ...|                null|                null|             0|    false|         low|null|1587956833746034690|1587956833746034690|              SenateGOP|  1587951396376248325|      1587951396376248325|           14344823|               14344823|          false|  en|      [{null}]| null|              null|          0|          0|            0|    false|  null|<a href=\"http://t...|@SenateGOP Childr...|    false|{false, Sat Jul 3...|\n",
      "|        null|       null|Wed Nov 02 23:56:...|         [41, 140]|{1667435173000, 5}|{[158795677884667...|   false|{[], null, null, ...|                null|{[41, 309], {[], ...|            11|    false|         low|null|1587956778846679041|1587956778846679041|              pepieux55|  1587952339314388992|      1587952339314388992|1519353532322746368|    1519353532322746368|          false|  en|      [{null}]| null|              null|          0|          2|            0|    false|  null|<a href=\"http://t...|@pepieux55 @Truth...|     true|{false, Mon Apr 0...|\n",
      "+------------+-----------+--------------------+------------------+------------------+--------------------+--------+--------------------+--------------------+--------------------+--------------+---------+------------+----+-------------------+-------------------+-----------------------+---------------------+-------------------------+-------------------+-----------------------+---------------+----+--------------+-----+------------------+-----------+-----------+-------------+---------+------+--------------------+--------------------+---------+--------------------+\n",
      "only showing top 20 rows\n",
      "\n"
     ]
    }
   ],
   "source": [
    "raw_tweet_df.show()"
   ]
  },
  {
   "cell_type": "code",
   "execution_count": 8,
   "metadata": {
    "colab": {
     "base_uri": "https://localhost:8080/"
    },
    "id": "WJHFjUlZkXtT",
    "outputId": "200ebf7c-26f7-4062-ab3e-ee801801e4b0"
   },
   "outputs": [
    {
     "name": "stdout",
     "output_type": "stream",
     "text": [
      "+-------------------+--------------------+\n",
      "|           tweet_id|                user|\n",
      "+-------------------+--------------------+\n",
      "|1587957708166426625|{false, Sun Jul 0...|\n",
      "|1587957661085171712|{false, Fri Jan 1...|\n",
      "|1587957440494141441|{false, Thu Jan 2...|\n",
      "|1587957427823349760|{false, Sun Sep 1...|\n",
      "|1587957397422841861|{false, Mon Sep 0...|\n",
      "|1587957395539611648|{false, Fri May 1...|\n",
      "|1587957387503501312|{false, Sat Jul 1...|\n",
      "|1587957369543204865|{false, Tue Oct 2...|\n",
      "|1587957359636189185|{false, Fri Aug 2...|\n",
      "|1587957220502822912|{false, Wed Oct 0...|\n",
      "|1587957194443685889|{false, Sat Oct 0...|\n",
      "|1587957099048443904|{false, Sat Feb 2...|\n",
      "|1587957099048275969|{false, Tue Nov 1...|\n",
      "|1587957050440491008|{false, Mon Sep 1...|\n",
      "|1587957045784973312|{false, Fri Feb 0...|\n",
      "|1587957022980546560|{false, Sun Apr 1...|\n",
      "|1587957018551357443|{false, Thu Feb 1...|\n",
      "|1587956871792467969|{false, Sat Aug 0...|\n",
      "|1587956833746034690|{false, Sat Jul 3...|\n",
      "|1587956778846679041|{false, Mon Apr 0...|\n",
      "+-------------------+--------------------+\n",
      "only showing top 20 rows\n",
      "\n"
     ]
    }
   ],
   "source": [
    "tweet_id_user_df = raw_tweet_df.selectExpr([\"id_str as tweet_id\", \"user\"])\n",
    "tweet_id_user_df.show()"
   ]
  },
  {
   "cell_type": "code",
   "execution_count": 9,
   "metadata": {
    "colab": {
     "base_uri": "https://localhost:8080/"
    },
    "id": "Z8wmLu7XmGRX",
    "outputId": "36f26bc0-f343-4559-f774-0cdcd7606289"
   },
   "outputs": [
    {
     "name": "stdout",
     "output_type": "stream",
     "text": [
      "root\n",
      " |-- tweet_id: string (nullable = true)\n",
      " |-- user: struct (nullable = true)\n",
      " |    |-- contributors_enabled: boolean (nullable = true)\n",
      " |    |-- created_at: string (nullable = true)\n",
      " |    |-- default_profile: boolean (nullable = true)\n",
      " |    |-- default_profile_image: boolean (nullable = true)\n",
      " |    |-- derived: struct (nullable = true)\n",
      " |    |    |-- locations: array (nullable = true)\n",
      " |    |    |    |-- element: struct (containsNull = true)\n",
      " |    |    |    |    |-- country: string (nullable = true)\n",
      " |    |    |    |    |-- country_code: string (nullable = true)\n",
      " |    |    |    |    |-- full_name: string (nullable = true)\n",
      " |    |    |    |    |-- geo: struct (nullable = true)\n",
      " |    |    |    |    |    |-- coordinates: array (nullable = true)\n",
      " |    |    |    |    |    |    |-- element: double (containsNull = true)\n",
      " |    |    |    |    |    |-- type: string (nullable = true)\n",
      " |    |    |    |    |-- locality: string (nullable = true)\n",
      " |    |    |    |    |-- region: string (nullable = true)\n",
      " |    |    |    |    |-- sub_region: string (nullable = true)\n",
      " |    |-- description: string (nullable = true)\n",
      " |    |-- favourites_count: long (nullable = true)\n",
      " |    |-- follow_request_sent: string (nullable = true)\n",
      " |    |-- followers_count: long (nullable = true)\n",
      " |    |-- following: string (nullable = true)\n",
      " |    |-- friends_count: long (nullable = true)\n",
      " |    |-- geo_enabled: boolean (nullable = true)\n",
      " |    |-- id: long (nullable = true)\n",
      " |    |-- id_str: string (nullable = true)\n",
      " |    |-- is_translator: boolean (nullable = true)\n",
      " |    |-- lang: string (nullable = true)\n",
      " |    |-- listed_count: long (nullable = true)\n",
      " |    |-- location: string (nullable = true)\n",
      " |    |-- name: string (nullable = true)\n",
      " |    |-- notifications: string (nullable = true)\n",
      " |    |-- profile_background_color: string (nullable = true)\n",
      " |    |-- profile_background_image_url: string (nullable = true)\n",
      " |    |-- profile_background_image_url_https: string (nullable = true)\n",
      " |    |-- profile_background_tile: boolean (nullable = true)\n",
      " |    |-- profile_banner_url: string (nullable = true)\n",
      " |    |-- profile_image_url: string (nullable = true)\n",
      " |    |-- profile_image_url_https: string (nullable = true)\n",
      " |    |-- profile_link_color: string (nullable = true)\n",
      " |    |-- profile_sidebar_border_color: string (nullable = true)\n",
      " |    |-- profile_sidebar_fill_color: string (nullable = true)\n",
      " |    |-- profile_text_color: string (nullable = true)\n",
      " |    |-- profile_use_background_image: boolean (nullable = true)\n",
      " |    |-- protected: boolean (nullable = true)\n",
      " |    |-- screen_name: string (nullable = true)\n",
      " |    |-- statuses_count: long (nullable = true)\n",
      " |    |-- time_zone: string (nullable = true)\n",
      " |    |-- translator_type: string (nullable = true)\n",
      " |    |-- url: string (nullable = true)\n",
      " |    |-- utc_offset: string (nullable = true)\n",
      " |    |-- verified: boolean (nullable = true)\n",
      " |    |-- withheld_in_countries: array (nullable = true)\n",
      " |    |    |-- element: string (containsNull = true)\n",
      "\n"
     ]
    }
   ],
   "source": [
    "tweet_id_user_df.printSchema()"
   ]
  },
  {
   "cell_type": "code",
   "execution_count": 10,
   "metadata": {
    "colab": {
     "base_uri": "https://localhost:8080/"
    },
    "id": "2_L34nWoo5Pf",
    "outputId": "e3722f05-521d-431c-cf32-538805ba1338"
   },
   "outputs": [
    {
     "name": "stdout",
     "output_type": "stream",
     "text": [
      "+-------------------+-------------------+\n",
      "|           tweet_id|             id_str|\n",
      "+-------------------+-------------------+\n",
      "|1587957708166426625|         2677654265|\n",
      "|1587957661085171712|           12096932|\n",
      "|1587957440494141441|           19739355|\n",
      "|1587957427823349760|           16283923|\n",
      "|1587957397422841861|          187451789|\n",
      "|1587957395539611648| 862874466333986816|\n",
      "|1587957387503501312|         2660741214|\n",
      "|1587957369543204865|         4003610356|\n",
      "|1587957359636189185|1563305202412728320|\n",
      "|1587957220502822912|          385373318|\n",
      "|1587957194443685889|1578731482234978306|\n",
      "|1587957099048443904| 967228018379907075|\n",
      "|1587957099048275969|1062380306802462721|\n",
      "|1587957050440491008|            8926282|\n",
      "|1587957045784973312|1225898684765831168|\n",
      "|1587957022980546560|1513157814142877707|\n",
      "|1587957018551357443|         2342016626|\n",
      "|1587956871792467969|1025715968461271046|\n",
      "|1587956833746034690| 759495379301769216|\n",
      "|1587956778846679041|         2431547731|\n",
      "+-------------------+-------------------+\n",
      "only showing top 20 rows\n",
      "\n"
     ]
    }
   ],
   "source": [
    "user_id_df = tweet_id_user_df.select([\"tweet_id\", \"user.id_str\"])\n",
    "user_id_df.show()"
   ]
  },
  {
   "cell_type": "code",
   "execution_count": 11,
   "metadata": {
    "colab": {
     "base_uri": "https://localhost:8080/"
    },
    "id": "WQm0gUEvwCn6",
    "outputId": "613ae319-b852-4a92-f1bb-76f66f91ecba"
   },
   "outputs": [
    {
     "name": "stdout",
     "output_type": "stream",
     "text": [
      "+-------------------+-------------------+\n",
      "|           tweet_id|            user_id|\n",
      "+-------------------+-------------------+\n",
      "|1587957708166426625|         2677654265|\n",
      "|1587957661085171712|           12096932|\n",
      "|1587957440494141441|           19739355|\n",
      "|1587957427823349760|           16283923|\n",
      "|1587957397422841861|          187451789|\n",
      "|1587957395539611648| 862874466333986816|\n",
      "|1587957387503501312|         2660741214|\n",
      "|1587957369543204865|         4003610356|\n",
      "|1587957359636189185|1563305202412728320|\n",
      "|1587957220502822912|          385373318|\n",
      "|1587957194443685889|1578731482234978306|\n",
      "|1587957099048443904| 967228018379907075|\n",
      "|1587957099048275969|1062380306802462721|\n",
      "|1587957050440491008|            8926282|\n",
      "|1587957045784973312|1225898684765831168|\n",
      "|1587957022980546560|1513157814142877707|\n",
      "|1587957018551357443|         2342016626|\n",
      "|1587956871792467969|1025715968461271046|\n",
      "|1587956833746034690| 759495379301769216|\n",
      "|1587956778846679041|         2431547731|\n",
      "+-------------------+-------------------+\n",
      "only showing top 20 rows\n",
      "\n"
     ]
    }
   ],
   "source": [
    "user_id_df = user_id_df.selectExpr([\"tweet_id\", \"id_str as user_id\"])\n",
    "user_id_df.show()"
   ]
  },
  {
   "cell_type": "code",
   "execution_count": 12,
   "metadata": {
    "colab": {
     "base_uri": "https://localhost:8080/"
    },
    "id": "8o1yg2UDrFNU",
    "outputId": "6befd5ee-58de-4994-aa3d-d93854f0d2e7"
   },
   "outputs": [
    {
     "name": "stdout",
     "output_type": "stream",
     "text": [
      "+--------+-------+\n",
      "|tweet_id|user_id|\n",
      "+--------+-------+\n",
      "|       0|      0|\n",
      "+--------+-------+\n",
      "\n"
     ]
    }
   ],
   "source": [
    "from pyspark.sql import functions as f\n",
    "\n",
    "# count nulls\n",
    "null_count_df = user_id_df.select([f.count(f.when(f.col(c).contains('None') | \\\n",
    "                            f.col(c).contains('NULL') | \\\n",
    "                            (f.col(c) == '' ) | \\\n",
    "                            f.col(c).isNull() | \\\n",
    "                            f.isnan(c), c \n",
    "                           )).alias(c)\n",
    "                    for c in user_id_df.columns])\n",
    "\n",
    "null_count_df.show()"
   ]
  },
  {
   "cell_type": "code",
   "execution_count": 13,
   "metadata": {
    "id": "cNQQznmivQJB"
   },
   "outputs": [],
   "source": [
    "# Read in training tweets data from S3 Bucket\n",
    "from pyspark import SparkFiles\n",
    "url =\"https://gun-sentiment-analysis.s3.us-west-2.amazonaws.com/twitter_training_data/training_tweets.csv\"\n",
    "spark.sparkContext.addFile(url)\n",
    "tweet_df = spark.read.csv(SparkFiles.get(\"training_tweets.csv\"), sep=\",\", header=True, multiLine=True, inferSchema=True)"
   ]
  },
  {
   "cell_type": "code",
   "execution_count": 14,
   "metadata": {
    "colab": {
     "base_uri": "https://localhost:8080/"
    },
    "id": "t2TKCAw9x9sk",
    "outputId": "5a34e6e9-8f71-41e2-e8dc-28eec130e257"
   },
   "outputs": [
    {
     "name": "stdout",
     "output_type": "stream",
     "text": [
      "+-------------------+------------------------------+---------------------------------------------------------------------------------------------------------------------------------------------------------------------------------------------------------------------------------------------------------------------------------------------------------------------+--------------+--------------------------------------------------------------------------------------------------------------------------------------------------+-----------------------------------------------------------------------+---------------------+----------+----------+---------------+------------+-------+-------------+-----------------+-----------------+----------------+------------------+--------------------------------------------+--------------+--------------+-----------+-----------+-----------+--------------+------------------------------------------------------+\n",
      "|tweet_id           |date                          |full_text                                                                                                                                                                                                                                                                                                            |tweet_type    |hashtags                                                                                                                                          |mentions                                                               |user_location        |place_type|place_name|place_full_name|country_code|country|prof_country |prof_country_code|prof_locality    |prof_region     |prof_sub_region   |prof_full_name                              |prof_coord_lat|prof_coord_lng|reply_count|quote_count|likes_count|retweet_counts|hyperlink                                             |\n",
      "+-------------------+------------------------------+---------------------------------------------------------------------------------------------------------------------------------------------------------------------------------------------------------------------------------------------------------------------------------------------------------------------+--------------+--------------------------------------------------------------------------------------------------------------------------------------------------+-----------------------------------------------------------------------+---------------------+----------+----------+---------------+------------+-------+-------------+-----------------+-----------------+----------------+------------------+--------------------------------------------+--------------+--------------+-----------+-----------+-----------+--------------+------------------------------------------------------+\n",
      "|1587957708166426625|Wed Nov 02 23:59:55 +0000 2022|@PapiiDev_ @aaronbricks69 @Barstooldmv Man ppl going to get guns regardless. If they want to get one they will. Yes we do need to do a better job at doing background checks and stuff I’ll agree with you ther                                                                                                      |Reply Tweet   |null                                                                                                                                              |['@PapiiDev_', '@aaronbricks69', '@Barstooldmv']                       |Indianapolis, IN     |null      |null      |null           |null        |null   |United States|US               |Indianapolis     |Indiana         |Marion County     |Indianapolis, Indiana, United States        |-86.15804     |39.76838      |1          |0          |0          |0             |https://twitter.com/twitter/status/1587957708166426625|\n",
      "|1587957661085171712|Wed Nov 02 23:59:43 +0000 2022|@watertigernyc Hey, now that NYC is open carry…                                                                                                                                                                                                                                                                      |Reply Tweet   |null                                                                                                                                              |['@watertigernyc']                                                     |New Jersey, USA      |null      |null      |null           |null        |null   |United States|US               |null             |New Jersey      |null              |New Jersey, United States                   |-74.49987     |40.16706      |0          |0          |2          |0             |https://twitter.com/twitter/status/1587957661085171712|\n",
      "|1587957440494141441|Wed Nov 02 23:58:51 +0000 2022|.@KaneGovernment decides new gun law not ready after hearing local gun owner concerns https://t.co/T9v8WuE1D7 via @dailyherald                                                                                                                                                                                       |Original Tweet|null                                                                                                                                              |['@KaneGovernment', '@dailyherald']                                    |Kane County, IL.     |null      |null      |null           |null        |null   |United States|US               |Kane             |Illinois        |Greene County     |Kane, Illinois, United States               |-90.35373     |39.19005      |0          |0          |0          |0             |https://twitter.com/twitter/status/1587957440494141441|\n",
      "|1587957427823349760|Wed Nov 02 23:58:48 +0000 2022|@thediva76 @iamjadebrieanne @brolys_maiden @unclelukereal1 Yeah there’s nothing wrong with the gun culture in black communities, right? Also https://t.co/fheQcZf4Su                                                                                                                                                 |Reply Tweet   |null                                                                                                                                              |['@thediva76', '@iamjadebrieanne', '@brolys_maiden', '@unclelukereal1']|Washington, DC       |null      |null      |null           |null        |null   |United States|US               |null             |Washington, D.C.|null              |Washington, D.C., United States             |-77.00025     |38.91706      |1          |0          |0          |0             |https://twitter.com/twitter/status/1587957427823349760|\n",
      "|1587957397422841861|Wed Nov 02 23:58:41 +0000 2022|HipHop needs to go on strike! No more gun play or violence, no more negativity over creativity. No More! How many do we have to loose before we SAY NO MORE!                                                                                                                                                         |Original Tweet|null                                                                                                                                              |null                                                                   |douglasville         |null      |null      |null           |null        |null   |United States|US               |Douglasville     |Georgia         |Douglas County    |Douglasville, Georgia, United States        |-84.74771     |33.7515       |0          |0          |0          |0             |https://twitter.com/twitter/status/1587957397422841861|\n",
      "|1587957395539611648|Wed Nov 02 23:58:40 +0000 2022|@bradlena1 @RadioFreeTom Republicans push for unrestricted gun ownership, and Democrats get blamed for gun violence. Go figure.                                                                                                                                                                                      |Reply Tweet   |null                                                                                                                                              |['@bradlena1', '@RadioFreeTom']                                        |Florida, USA         |null      |null      |null           |null        |null   |United States|US               |null             |Florida         |null              |Florida, United States                      |-82.5001      |28.75054      |0          |0          |26         |1             |https://twitter.com/twitter/status/1587957395539611648|\n",
      "|1587957387503501312|Wed Nov 02 23:58:38 +0000 2022|Iowans, Strict scrutiny means the rights of the community or business owners or schools to enact reasonable gun restrictions will become subordinate to the individual’s right to carry his gun anywhere and everywhere. Vote NO on the gun amendment                                                                |Original Tweet|null                                                                                                                                              |null                                                                   |Johnston, IA         |null      |null      |null           |null        |null   |United States|US               |Johnston         |Iowa            |Polk County       |Johnston, Iowa, United States               |-93.69772     |41.67304      |0          |0          |0          |0             |https://twitter.com/twitter/status/1587957387503501312|\n",
      "|1587957369543204865|Wed Nov 02 23:58:34 +0000 2022|\"The 2nd Amendment calls for a \"\"A well regulated Militia\"\" https://t.co/oMeEBiCjQt\"                                                                                                                                                                                                                                 |Original Tweet|null                                                                                                                                              |null                                                                   |America              |null      |null      |null           |null        |null   |United States|US               |null             |null            |null              |United States                               |-98.5         |39.76         |0          |0          |1          |0             |https://twitter.com/twitter/status/1587957369543204865|\n",
      "|1587957359636189185|Wed Nov 02 23:58:32 +0000 2022|@marla_vous @BetoORourke Abbott is Forever. So not Allowed to Complain about No power or Mass shootings Again                                                                                                                                                                                                        |Reply Tweet   |null                                                                                                                                              |['@marla_vous', '@BetoORourke']                                        |California, USA      |null      |null      |null           |null        |null   |United States|US               |null             |California      |null              |California, United States                   |-119.75126    |37.25022      |0          |0          |0          |0             |https://twitter.com/twitter/status/1587957359636189185|\n",
      "|1587957220502822912|Wed Nov 02 23:57:58 +0000 2022|A Federal Judge Calls Clarence Thomas’ Bluff on Gun Rights and Originalism https://t.co/5hqlqDpTaP                                                                                                                                                                                                                   |Original Tweet|null                                                                                                                                              |null                                                                   |Euclid,OH            |null      |null      |null           |null        |null   |United States|US               |Euclid           |Ohio            |Cuyahoga County   |Euclid, Ohio, United States                 |-81.52679     |41.5931       |0          |0          |0          |0             |https://twitter.com/twitter/status/1587957220502822912|\n",
      "|1587957194443685889|Wed Nov 02 23:57:52 +0000 2022|@ClownWorld_ @robreiner Sir your side won’t let me have a legal gun, your side continues to allow criminals freedoms they gave up the moment they committed their crime, your side chooses to tell me that my body isn’t my body &amp; I must put inside my body a vaccine yet you won’t educate….                   |Reply Tweet   |null                                                                                                                                              |['@ClownWorld_', '@robreiner']                                         |United States        |null      |null      |null           |null        |null   |United States|US               |null             |null            |null              |United States                               |-98.5         |39.76         |0          |0          |31         |0             |https://twitter.com/twitter/status/1587957194443685889|\n",
      "|1587957099048443904|Wed Nov 02 23:57:29 +0000 2022|@ClownWorld_ This is why we have the second amendment                                                                                                                                                                                                                                                                |Reply Tweet   |null                                                                                                                                              |['@ClownWorld_']                                                       |Kentucky, USA        |null      |null      |null           |null        |null   |United States|US               |null             |Kentucky        |null              |Kentucky, United States                     |-84.87762     |38.20042      |0          |0          |0          |0             |https://twitter.com/twitter/status/1587957099048443904|\n",
      "|1587957099048275969|Wed Nov 02 23:57:29 +0000 2022|What an idiotic headline. There is no bluff. It isn't difficult to look up the LEGAL history of regulations. It is done all the time for all kinds of laws. Guns doesn't charge that. And carrying into an airport isn't new. @Slate @gunpolicy @GunOwners \\n\\nhttps://t.co/WmJxiZXI9E                               |Original Tweet|null                                                                                                                                              |['@Slate', '@gunpolicy', '@GunOwners']                                 |Gilbert, AZ          |null      |null      |null           |null        |null   |United States|US               |Gilbert          |Arizona         |Maricopa County   |Gilbert, Arizona, United States             |-111.78903    |33.35283      |0          |0          |0          |0             |https://twitter.com/twitter/status/1587957099048275969|\n",
      "|1587957050440491008|Wed Nov 02 23:57:18 +0000 2022|@laurenboebert @GunOwners God given rights? The right to bear arms is a matter of God? I’m lost in your bs                                                                                                                                                                                                           |Reply Tweet   |null                                                                                                                                              |['@laurenboebert', '@GunOwners']                                       |Los Angeles, CA      |null      |null      |null           |null        |null   |United States|US               |Los Angeles      |California      |Los Angeles County|Los Angeles, California, United States      |-118.24368    |34.05223      |0          |0          |0          |0             |https://twitter.com/twitter/status/1587957050440491008|\n",
      "|1587957045784973312|Wed Nov 02 23:57:17 +0000 2022|@billmaher tells #MSNBC that it’s extremist and clearly a problem that #Republicans are using their #Second #Amendment #right to be #well #trained and know how to protect themselves. #Selfdefense #Constitution #Trump #America #Fact                                                                              |Original Tweet|['#MSNBC', '#Republicans', '#Second', '#Amendment', '#right', '#well', '#trained', '#Selfdefense', '#Constitution', '#Trump', '#America', '#Fact']|['@billmaher']                                                         |United States        |null      |null      |null           |null        |null   |United States|US               |null             |null            |null              |United States                               |-98.5         |39.76         |0          |0          |0          |0             |https://twitter.com/twitter/status/1587957045784973312|\n",
      "|1587957022980546560|Wed Nov 02 23:57:11 +0000 2022|@jilevin It’s called the 2nd Amendment, look it up. It provides protection from a tyrannical government, you know, like the one which forced you to wear a mask. In a world of compromise, some don’t.                                                                                                               |Reply Tweet   |null                                                                                                                                              |['@jilevin']                                                           |USA                  |null      |null      |null           |null        |null   |United States|US               |null             |null            |null              |United States                               |-98.5         |39.76         |0          |0          |0          |0             |https://twitter.com/twitter/status/1587957022980546560|\n",
      "|1587957018551357443|Wed Nov 02 23:57:10 +0000 2022|@gunpolicy What does a CT compliant AR look like? The “assault weapons” ban is so dumb  It just sucks most people have no idea what it actually is and does, try to teach them - if they’re willing to listen they’ll see how futile it actually is https://t.co/VI3TOadOoY                                          |Reply Tweet   |null                                                                                                                                              |['@gunpolicy']                                                         |North Jersey         |null      |null      |null           |null        |null   |United States|US               |North Wildwood   |New Jersey      |Cape May County   |North Wildwood, New Jersey, United States   |-74.79933     |39.00067      |1          |0          |6          |0             |https://twitter.com/twitter/status/1587957018551357443|\n",
      "|1587956871792467969|Wed Nov 02 23:56:35 +0000 2022|@SenTedCruz Ted Cruz, hey guy worth $4mil. Here’s proof that democrats are better at fighting crime. Key word is reform. https://t.co/TG9miuz3ZY                                                                                                                                                                     |Reply Tweet   |null                                                                                                                                              |['@SenTedCruz']                                                        |California, USA      |null      |null      |null           |null        |null   |United States|US               |null             |California      |null              |California, United States                   |-119.75126    |37.25022      |0          |0          |0          |0             |https://twitter.com/twitter/status/1587956871792467969|\n",
      "|1587956833746034690|Wed Nov 02 23:56:26 +0000 2022|@SenateGOP Children murdered in their classrooms because the GOP refuses to support sensible gun laws!                                                                                                                                                                                                               |Reply Tweet   |null                                                                                                                                              |['@SenateGOP']                                                         |Madison, WI          |null      |null      |null           |null        |null   |United States|US               |Madison          |Wisconsin       |Dane County       |Madison, Wisconsin, United States           |-89.40123     |43.07305      |0          |0          |0          |0             |https://twitter.com/twitter/status/1587956833746034690|\n",
      "|1587956778846679041|Wed Nov 02 23:56:13 +0000 2022|@pepieux55 @TruthJustis4USA @ACTBrigitte Trump lost in the most secure election in history even as Russia tried to interfere again to keep him illegally in office. He and most Republicans in congress continue to lie to his MAGA domestic terrorist followers.  Those terrorists are out running around with guns.|Reply Tweet   |null                                                                                                                                              |['@pepieux55', '@TruthJustis4USA', '@ACTBrigitte']                     |East Port Orchard, WA|null      |null      |null           |null        |null   |United States|US               |East Port Orchard|Washington      |Kitsap County     |East Port Orchard, Washington, United States|-122.6243     |47.52343      |2          |0          |11         |0             |https://twitter.com/twitter/status/1587956778846679041|\n",
      "+-------------------+------------------------------+---------------------------------------------------------------------------------------------------------------------------------------------------------------------------------------------------------------------------------------------------------------------------------------------------------------------+--------------+--------------------------------------------------------------------------------------------------------------------------------------------------+-----------------------------------------------------------------------+---------------------+----------+----------+---------------+------------+-------+-------------+-----------------+-----------------+----------------+------------------+--------------------------------------------+--------------+--------------+-----------+-----------+-----------+--------------+------------------------------------------------------+\n",
      "only showing top 20 rows\n",
      "\n"
     ]
    }
   ],
   "source": [
    "tweet_df.show(truncate=False)"
   ]
  },
  {
   "cell_type": "code",
   "execution_count": 15,
   "metadata": {
    "colab": {
     "base_uri": "https://localhost:8080/"
    },
    "id": "gYq0NpwzyO_0",
    "outputId": "853d47b0-bfe5-4767-e5e6-3cd64ef4bed9"
   },
   "outputs": [
    {
     "name": "stdout",
     "output_type": "stream",
     "text": [
      "+--------+\n",
      "|tweet_id|\n",
      "+--------+\n",
      "|       0|\n",
      "+--------+\n",
      "\n"
     ]
    }
   ],
   "source": [
    "# count nulls\n",
    "tweet_null_count_df = tweet_df.select([f.count(f.when(f.col(c).contains('None') | \\\n",
    "                            f.col(c).contains('NULL') | \\\n",
    "                            (f.col(c) == '' ) | \\\n",
    "                            f.col(c).isNull() | \\\n",
    "                            f.isnan(c), c \n",
    "                           )).alias(c)\n",
    "                    for c in tweet_df.columns])\n",
    "\n",
    "\n",
    "tweet_null_count_df.select(\"tweet_id\").show()"
   ]
  },
  {
   "cell_type": "code",
   "execution_count": 16,
   "metadata": {
    "colab": {
     "base_uri": "https://localhost:8080/"
    },
    "id": "mN2RDhKC0ylE",
    "outputId": "ab5f134c-89eb-403b-d006-268e2eee92db"
   },
   "outputs": [
    {
     "name": "stdout",
     "output_type": "stream",
     "text": [
      "+---------------+\n",
      "|count(tweet_id)|\n",
      "+---------------+\n",
      "|           9231|\n",
      "+---------------+\n",
      "\n"
     ]
    }
   ],
   "source": [
    "tweet_df.select(f.count(\"tweet_id\")).show()"
   ]
  },
  {
   "cell_type": "code",
   "execution_count": 17,
   "metadata": {
    "colab": {
     "base_uri": "https://localhost:8080/"
    },
    "id": "Q9ELq7E73lbg",
    "outputId": "c759b46b-36c3-4ae1-905d-b7e3b121edbd"
   },
   "outputs": [
    {
     "name": "stdout",
     "output_type": "stream",
     "text": [
      "+-------------------+--------------------+--------------------+--------------+--------------------+--------------------+--------------------+----------+----------+---------------+------------+-------+-------------+-----------------+-----------------+----------------+------------------+--------------------+--------------+--------------+-----------+-----------+-----------+--------------+--------------------+-------------------+\n",
      "|           tweet_id|                date|           full_text|    tweet_type|            hashtags|            mentions|       user_location|place_type|place_name|place_full_name|country_code|country| prof_country|prof_country_code|    prof_locality|     prof_region|   prof_sub_region|      prof_full_name|prof_coord_lat|prof_coord_lng|reply_count|quote_count|likes_count|retweet_counts|           hyperlink|            user_id|\n",
      "+-------------------+--------------------+--------------------+--------------+--------------------+--------------------+--------------------+----------+----------+---------------+------------+-------+-------------+-----------------+-----------------+----------------+------------------+--------------------+--------------+--------------+-----------+-----------+-----------+--------------+--------------------+-------------------+\n",
      "|1587957708166426625|Wed Nov 02 23:59:...|@PapiiDev_ @aaron...|   Reply Tweet|                null|['@PapiiDev_', '@...|    Indianapolis, IN|      null|      null|           null|        null|   null|United States|               US|     Indianapolis|         Indiana|     Marion County|Indianapolis, Ind...|     -86.15804|      39.76838|          1|          0|          0|             0|https://twitter.c...|         2677654265|\n",
      "|1587957661085171712|Wed Nov 02 23:59:...|@watertigernyc He...|   Reply Tweet|                null|  ['@watertigernyc']|     New Jersey, USA|      null|      null|           null|        null|   null|United States|               US|             null|      New Jersey|              null|New Jersey, Unite...|     -74.49987|      40.16706|          0|          0|          2|             0|https://twitter.c...|           12096932|\n",
      "|1587957440494141441|Wed Nov 02 23:58:...|.@KaneGovernment ...|Original Tweet|                null|['@KaneGovernment...|    Kane County, IL.|      null|      null|           null|        null|   null|United States|               US|             Kane|        Illinois|     Greene County|Kane, Illinois, U...|     -90.35373|      39.19005|          0|          0|          0|             0|https://twitter.c...|           19739355|\n",
      "|1587957427823349760|Wed Nov 02 23:58:...|@thediva76 @iamja...|   Reply Tweet|                null|['@thediva76', '@...|      Washington, DC|      null|      null|           null|        null|   null|United States|               US|             null|Washington, D.C.|              null|Washington, D.C.,...|     -77.00025|      38.91706|          1|          0|          0|             0|https://twitter.c...|           16283923|\n",
      "|1587957397422841861|Wed Nov 02 23:58:...|HipHop needs to g...|Original Tweet|                null|                null|        douglasville|      null|      null|           null|        null|   null|United States|               US|     Douglasville|         Georgia|    Douglas County|Douglasville, Geo...|     -84.74771|       33.7515|          0|          0|          0|             0|https://twitter.c...|          187451789|\n",
      "|1587957395539611648|Wed Nov 02 23:58:...|@bradlena1 @Radio...|   Reply Tweet|                null|['@bradlena1', '@...|        Florida, USA|      null|      null|           null|        null|   null|United States|               US|             null|         Florida|              null|Florida, United S...|      -82.5001|      28.75054|          0|          0|         26|             1|https://twitter.c...| 862874466333986816|\n",
      "|1587957387503501312|Wed Nov 02 23:58:...|Iowans, Strict sc...|Original Tweet|                null|                null|        Johnston, IA|      null|      null|           null|        null|   null|United States|               US|         Johnston|            Iowa|       Polk County|Johnston, Iowa, U...|     -93.69772|      41.67304|          0|          0|          0|             0|https://twitter.c...|         2660741214|\n",
      "|1587957369543204865|Wed Nov 02 23:58:...|\"The 2nd Amendmen...|Original Tweet|                null|                null|             America|      null|      null|           null|        null|   null|United States|               US|             null|            null|              null|       United States|         -98.5|         39.76|          0|          0|          1|             0|https://twitter.c...|         4003610356|\n",
      "|1587957359636189185|Wed Nov 02 23:58:...|@marla_vous @Beto...|   Reply Tweet|                null|['@marla_vous', '...|     California, USA|      null|      null|           null|        null|   null|United States|               US|             null|      California|              null|California, Unite...|    -119.75126|      37.25022|          0|          0|          0|             0|https://twitter.c...|1563305202412728320|\n",
      "|1587957220502822912|Wed Nov 02 23:57:...|A Federal Judge C...|Original Tweet|                null|                null|           Euclid,OH|      null|      null|           null|        null|   null|United States|               US|           Euclid|            Ohio|   Cuyahoga County|Euclid, Ohio, Uni...|     -81.52679|       41.5931|          0|          0|          0|             0|https://twitter.c...|          385373318|\n",
      "|1587957194443685889|Wed Nov 02 23:57:...|@ClownWorld_ @rob...|   Reply Tweet|                null|['@ClownWorld_', ...|       United States|      null|      null|           null|        null|   null|United States|               US|             null|            null|              null|       United States|         -98.5|         39.76|          0|          0|         31|             0|https://twitter.c...|1578731482234978306|\n",
      "|1587957099048443904|Wed Nov 02 23:57:...|@ClownWorld_ This...|   Reply Tweet|                null|    ['@ClownWorld_']|       Kentucky, USA|      null|      null|           null|        null|   null|United States|               US|             null|        Kentucky|              null|Kentucky, United ...|     -84.87762|      38.20042|          0|          0|          0|             0|https://twitter.c...| 967228018379907075|\n",
      "|1587957099048275969|Wed Nov 02 23:57:...|What an idiotic h...|Original Tweet|                null|['@Slate', '@gunp...|         Gilbert, AZ|      null|      null|           null|        null|   null|United States|               US|          Gilbert|         Arizona|   Maricopa County|Gilbert, Arizona,...|    -111.78903|      33.35283|          0|          0|          0|             0|https://twitter.c...|1062380306802462721|\n",
      "|1587957050440491008|Wed Nov 02 23:57:...|@laurenboebert @G...|   Reply Tweet|                null|['@laurenboebert'...|     Los Angeles, CA|      null|      null|           null|        null|   null|United States|               US|      Los Angeles|      California|Los Angeles County|Los Angeles, Cali...|    -118.24368|      34.05223|          0|          0|          0|             0|https://twitter.c...|            8926282|\n",
      "|1587957045784973312|Wed Nov 02 23:57:...|@billmaher tells ...|Original Tweet|['#MSNBC', '#Repu...|      ['@billmaher']|       United States|      null|      null|           null|        null|   null|United States|               US|             null|            null|              null|       United States|         -98.5|         39.76|          0|          0|          0|             0|https://twitter.c...|1225898684765831168|\n",
      "|1587957022980546560|Wed Nov 02 23:57:...|@jilevin It’s cal...|   Reply Tweet|                null|        ['@jilevin']|                 USA|      null|      null|           null|        null|   null|United States|               US|             null|            null|              null|       United States|         -98.5|         39.76|          0|          0|          0|             0|https://twitter.c...|1513157814142877707|\n",
      "|1587957018551357443|Wed Nov 02 23:57:...|@gunpolicy What d...|   Reply Tweet|                null|      ['@gunpolicy']|        North Jersey|      null|      null|           null|        null|   null|United States|               US|   North Wildwood|      New Jersey|   Cape May County|North Wildwood, N...|     -74.79933|      39.00067|          1|          0|          6|             0|https://twitter.c...|         2342016626|\n",
      "|1587956871792467969|Wed Nov 02 23:56:...|@SenTedCruz Ted C...|   Reply Tweet|                null|     ['@SenTedCruz']|     California, USA|      null|      null|           null|        null|   null|United States|               US|             null|      California|              null|California, Unite...|    -119.75126|      37.25022|          0|          0|          0|             0|https://twitter.c...|1025715968461271046|\n",
      "|1587956833746034690|Wed Nov 02 23:56:...|@SenateGOP Childr...|   Reply Tweet|                null|      ['@SenateGOP']|         Madison, WI|      null|      null|           null|        null|   null|United States|               US|          Madison|       Wisconsin|       Dane County|Madison, Wisconsi...|     -89.40123|      43.07305|          0|          0|          0|             0|https://twitter.c...| 759495379301769216|\n",
      "|1587956778846679041|Wed Nov 02 23:56:...|@pepieux55 @Truth...|   Reply Tweet|                null|['@pepieux55', '@...|East Port Orchard...|      null|      null|           null|        null|   null|United States|               US|East Port Orchard|      Washington|     Kitsap County|East Port Orchard...|     -122.6243|      47.52343|          2|          0|         11|             0|https://twitter.c...|         2431547731|\n",
      "+-------------------+--------------------+--------------------+--------------+--------------------+--------------------+--------------------+----------+----------+---------------+------------+-------+-------------+-----------------+-----------------+----------------+------------------+--------------------+--------------+--------------+-----------+-----------+-----------+--------------+--------------------+-------------------+\n",
      "only showing top 20 rows\n",
      "\n"
     ]
    }
   ],
   "source": [
    "joined_tweets_user_df = tweet_df.join(user_id_df, on=\"tweet_id\", how=\"inner\")\n",
    "\n",
    "joined_tweets_user_df.show()"
   ]
  },
  {
   "cell_type": "code",
   "execution_count": 18,
   "metadata": {
    "colab": {
     "base_uri": "https://localhost:8080/"
    },
    "id": "BB21JeXv8sFf",
    "outputId": "b56cc2da-b507-4241-9759-0af60bbc77dd"
   },
   "outputs": [
    {
     "name": "stdout",
     "output_type": "stream",
     "text": [
      "+---------------+\n",
      "|count(tweet_id)|\n",
      "+---------------+\n",
      "|           8801|\n",
      "+---------------+\n",
      "\n"
     ]
    }
   ],
   "source": [
    "joined_tweets_user_df.select(f.count(\"tweet_id\")).show()"
   ]
  },
  {
   "cell_type": "code",
   "execution_count": 19,
   "metadata": {
    "colab": {
     "base_uri": "https://localhost:8080/"
    },
    "id": "oxiHF4V-7ExR",
    "outputId": "4c11e8f9-c297-4c69-a4e4-ee73fd2a6514"
   },
   "outputs": [
    {
     "name": "stdout",
     "output_type": "stream",
     "text": [
      "+--------+----+---------+----------+--------+--------+-------------+----------+----------+---------------+------------+-------+------------+-----------------+-------------+-----------+---------------+--------------+--------------+--------------+-----------+-----------+-----------+--------------+---------+-------+\n",
      "|tweet_id|date|full_text|tweet_type|hashtags|mentions|user_location|place_type|place_name|place_full_name|country_code|country|prof_country|prof_country_code|prof_locality|prof_region|prof_sub_region|prof_full_name|prof_coord_lat|prof_coord_lng|reply_count|quote_count|likes_count|retweet_counts|hyperlink|user_id|\n",
      "+--------+----+---------+----------+--------+--------+-------------+----------+----------+---------------+------------+-------+------------+-----------------+-------------+-----------+---------------+--------------+--------------+--------------+-----------+-----------+-----------+--------------+---------+-------+\n",
      "|       0|   0|       14|       150|    7347|    2790|          284|      8433|      8496|           8534|        8546|   8558|         398|              329|         4224|       1323|           4390|           316|           290|           271|        210|        207|        206|           207|      206|      0|\n",
      "+--------+----+---------+----------+--------+--------+-------------+----------+----------+---------------+------------+-------+------------+-----------------+-------------+-----------+---------------+--------------+--------------+--------------+-----------+-----------+-----------+--------------+---------+-------+\n",
      "\n"
     ]
    }
   ],
   "source": [
    "# count nulls\n",
    "tweets_user_null_count_df = joined_tweets_user_df.select([f.count(f.when(f.col(c).contains('None') | \\\n",
    "                            f.col(c).contains('NULL') | \\\n",
    "                            (f.col(c) == '' ) | \\\n",
    "                            f.col(c).isNull() | \\\n",
    "                            f.isnan(c), c \n",
    "                           )).alias(c)\n",
    "                    for c in joined_tweets_user_df.columns])\n",
    "\n",
    "\n",
    "tweets_user_null_count_df.show()"
   ]
  },
  {
   "cell_type": "code",
   "execution_count": 20,
   "metadata": {
    "colab": {
     "base_uri": "https://localhost:8080/"
    },
    "id": "IuAxVuad73nx",
    "outputId": "7a3cc0f0-3823-4dc2-e766-dd6e589a14c0"
   },
   "outputs": [
    {
     "data": {
      "text/plain": [
       "[('tweet_id', 'string'),\n",
       " ('date', 'string'),\n",
       " ('full_text', 'string'),\n",
       " ('tweet_type', 'string'),\n",
       " ('hashtags', 'string'),\n",
       " ('mentions', 'string'),\n",
       " ('user_location', 'string'),\n",
       " ('place_type', 'string'),\n",
       " ('place_name', 'string'),\n",
       " ('place_full_name', 'string'),\n",
       " ('country_code', 'string'),\n",
       " ('country', 'string'),\n",
       " ('prof_country', 'string'),\n",
       " ('prof_country_code', 'string'),\n",
       " ('prof_locality', 'string'),\n",
       " ('prof_region', 'string'),\n",
       " ('prof_sub_region', 'string'),\n",
       " ('prof_full_name', 'string'),\n",
       " ('prof_coord_lat', 'string'),\n",
       " ('prof_coord_lng', 'string'),\n",
       " ('reply_count', 'string'),\n",
       " ('quote_count', 'string'),\n",
       " ('likes_count', 'string'),\n",
       " ('retweet_counts', 'string'),\n",
       " ('hyperlink', 'string'),\n",
       " ('user_id', 'string')]"
      ]
     },
     "execution_count": 20,
     "metadata": {},
     "output_type": "execute_result"
    }
   ],
   "source": [
    "# data types\n",
    "joined_tweets_user_df.dtypes"
   ]
  },
  {
   "cell_type": "code",
   "execution_count": 21,
   "metadata": {
    "colab": {
     "base_uri": "https://localhost:8080/"
    },
    "id": "kXC51mXY_BYJ",
    "outputId": "2ac6d973-9a8c-48d2-8e85-4be951c4875b"
   },
   "outputs": [
    {
     "data": {
      "text/plain": [
       "[('tweet_id', 'string'),\n",
       " ('date', 'string'),\n",
       " ('full_text', 'string'),\n",
       " ('tweet_type', 'string'),\n",
       " ('hashtags', 'string'),\n",
       " ('mentions', 'string'),\n",
       " ('reply_count', 'int'),\n",
       " ('quote_count', 'int'),\n",
       " ('likes_count', 'int'),\n",
       " ('retweet_counts', 'int'),\n",
       " ('hyperlink', 'string'),\n",
       " ('country_code', 'string'),\n",
       " ('location_name', 'string'),\n",
       " ('latitude', 'float'),\n",
       " ('longitude', 'float'),\n",
       " ('user_id', 'string')]"
      ]
     },
     "execution_count": 21,
     "metadata": {},
     "output_type": "execute_result"
    }
   ],
   "source": [
    "final_df = joined_tweets_user_df.selectExpr(\"tweet_id\", \"date\", \"full_text\", \"tweet_type\", \\\n",
    "                                            \"hashtags\", \"mentions\", \"cast(reply_count as int) reply_count\", \"cast(quote_count as int) quote_count\", \\\n",
    "                                            \"cast(likes_count as int) likes_count\", \"cast(retweet_counts as int) retweet_counts\", \"hyperlink\", \\\n",
    "                                            \"prof_country_code as country_code\", \"prof_full_name as location_name\", \"cast(prof_coord_lat as float) latitude\", \\\n",
    "                                            \"cast(prof_coord_lng as float) longitude\", \"user_id\")\n",
    "\n",
    "final_df.dtypes                                            "
   ]
  },
  {
   "cell_type": "code",
   "execution_count": 30,
   "metadata": {
    "colab": {
     "base_uri": "https://localhost:8080/"
    },
    "id": "tSyRafr7FKgU",
    "outputId": "db36e151-b9c9-433b-a85a-e8dd3531cfb1"
   },
   "outputs": [
    {
     "name": "stdout",
     "output_type": "stream",
     "text": [
      "+-------------------+-------------------+--------------------+--------------------+--------------+--------------------+--------------------+-----------+-----------+-----------+--------------+--------------------+\n",
      "|           tweet_id|            user_id|                date|           full_text|    tweet_type|            hashtags|            mentions|reply_count|quote_count|likes_count|retweet_counts|           hyperlink|\n",
      "+-------------------+-------------------+--------------------+--------------------+--------------+--------------------+--------------------+-----------+-----------+-----------+--------------+--------------------+\n",
      "|1587957708166426625|         2677654265|Wed Nov 02 23:59:...|@PapiiDev_ @aaron...|   Reply Tweet|                null|['@PapiiDev_', '@...|          1|          0|          0|             0|https://twitter.c...|\n",
      "|1587957661085171712|           12096932|Wed Nov 02 23:59:...|@watertigernyc He...|   Reply Tweet|                null|  ['@watertigernyc']|          0|          0|          2|             0|https://twitter.c...|\n",
      "|1587957440494141441|           19739355|Wed Nov 02 23:58:...|.@KaneGovernment ...|Original Tweet|                null|['@KaneGovernment...|          0|          0|          0|             0|https://twitter.c...|\n",
      "|1587957427823349760|           16283923|Wed Nov 02 23:58:...|@thediva76 @iamja...|   Reply Tweet|                null|['@thediva76', '@...|          1|          0|          0|             0|https://twitter.c...|\n",
      "|1587957397422841861|          187451789|Wed Nov 02 23:58:...|HipHop needs to g...|Original Tweet|                null|                null|          0|          0|          0|             0|https://twitter.c...|\n",
      "|1587957395539611648| 862874466333986816|Wed Nov 02 23:58:...|@bradlena1 @Radio...|   Reply Tweet|                null|['@bradlena1', '@...|          0|          0|         26|             1|https://twitter.c...|\n",
      "|1587957387503501312|         2660741214|Wed Nov 02 23:58:...|Iowans, Strict sc...|Original Tweet|                null|                null|          0|          0|          0|             0|https://twitter.c...|\n",
      "|1587957369543204865|         4003610356|Wed Nov 02 23:58:...|\"The 2nd Amendmen...|Original Tweet|                null|                null|          0|          0|          1|             0|https://twitter.c...|\n",
      "|1587957359636189185|1563305202412728320|Wed Nov 02 23:58:...|@marla_vous @Beto...|   Reply Tweet|                null|['@marla_vous', '...|          0|          0|          0|             0|https://twitter.c...|\n",
      "|1587957220502822912|          385373318|Wed Nov 02 23:57:...|A Federal Judge C...|Original Tweet|                null|                null|          0|          0|          0|             0|https://twitter.c...|\n",
      "|1587957194443685889|1578731482234978306|Wed Nov 02 23:57:...|@ClownWorld_ @rob...|   Reply Tweet|                null|['@ClownWorld_', ...|          0|          0|         31|             0|https://twitter.c...|\n",
      "|1587957099048443904| 967228018379907075|Wed Nov 02 23:57:...|@ClownWorld_ This...|   Reply Tweet|                null|    ['@ClownWorld_']|          0|          0|          0|             0|https://twitter.c...|\n",
      "|1587957099048275969|1062380306802462721|Wed Nov 02 23:57:...|What an idiotic h...|Original Tweet|                null|['@Slate', '@gunp...|          0|          0|          0|             0|https://twitter.c...|\n",
      "|1587957050440491008|            8926282|Wed Nov 02 23:57:...|@laurenboebert @G...|   Reply Tweet|                null|['@laurenboebert'...|          0|          0|          0|             0|https://twitter.c...|\n",
      "|1587957045784973312|1225898684765831168|Wed Nov 02 23:57:...|@billmaher tells ...|Original Tweet|['#MSNBC', '#Repu...|      ['@billmaher']|          0|          0|          0|             0|https://twitter.c...|\n",
      "|1587957022980546560|1513157814142877707|Wed Nov 02 23:57:...|@jilevin It’s cal...|   Reply Tweet|                null|        ['@jilevin']|          0|          0|          0|             0|https://twitter.c...|\n",
      "|1587957018551357443|         2342016626|Wed Nov 02 23:57:...|@gunpolicy What d...|   Reply Tweet|                null|      ['@gunpolicy']|          1|          0|          6|             0|https://twitter.c...|\n",
      "|1587956871792467969|1025715968461271046|Wed Nov 02 23:56:...|@SenTedCruz Ted C...|   Reply Tweet|                null|     ['@SenTedCruz']|          0|          0|          0|             0|https://twitter.c...|\n",
      "|1587956833746034690| 759495379301769216|Wed Nov 02 23:56:...|@SenateGOP Childr...|   Reply Tweet|                null|      ['@SenateGOP']|          0|          0|          0|             0|https://twitter.c...|\n",
      "|1587956778846679041|         2431547731|Wed Nov 02 23:56:...|@pepieux55 @Truth...|   Reply Tweet|                null|['@pepieux55', '@...|          2|          0|         11|             0|https://twitter.c...|\n",
      "+-------------------+-------------------+--------------------+--------------------+--------------+--------------------+--------------------+-----------+-----------+-----------+--------------+--------------------+\n",
      "only showing top 20 rows\n",
      "\n"
     ]
    }
   ],
   "source": [
    "# tweets table df\n",
    "\n",
    "tweets_df = final_df.select(\"tweet_id\", \"user_id\", \"date\", \"full_text\", \"tweet_type\", \"hashtags\", \"mentions\", \"reply_count\", \\\n",
    "                            \"quote_count\", \"likes_count\", \"retweet_counts\", \"hyperlink\")\n",
    "\n",
    "# tweets_df = tweets_df.withColumn(\"sentiment\", f.lit(None))\n",
    "\n",
    "tweets_df.show()"
   ]
  },
  {
   "cell_type": "code",
   "execution_count": 31,
   "metadata": {
    "colab": {
     "base_uri": "https://localhost:8080/"
    },
    "id": "lt8DV3YqHmew",
    "outputId": "1bfc3b57-94e9-473e-832b-966e78a819b5"
   },
   "outputs": [
    {
     "name": "stdout",
     "output_type": "stream",
     "text": [
      "+-------------------+------------+--------------------+----------+---------+\n",
      "|            user_id|country_code|       location_name|  latitude|longitude|\n",
      "+-------------------+------------+--------------------+----------+---------+\n",
      "|         2677654265|          US|Indianapolis, Ind...| -86.15804| 39.76838|\n",
      "|           12096932|          US|New Jersey, Unite...| -74.49987| 40.16706|\n",
      "|           19739355|          US|Kane, Illinois, U...| -90.35373| 39.19005|\n",
      "|           16283923|          US|Washington, D.C.,...| -77.00025| 38.91706|\n",
      "|          187451789|          US|Douglasville, Geo...| -84.74771|  33.7515|\n",
      "| 862874466333986816|          US|Florida, United S...|  -82.5001| 28.75054|\n",
      "|         2660741214|          US|Johnston, Iowa, U...| -93.69772| 41.67304|\n",
      "|         4003610356|          US|       United States|     -98.5|    39.76|\n",
      "|1563305202412728320|          US|California, Unite...|-119.75126| 37.25022|\n",
      "|          385373318|          US|Euclid, Ohio, Uni...| -81.52679|  41.5931|\n",
      "|1578731482234978306|          US|       United States|     -98.5|    39.76|\n",
      "| 967228018379907075|          US|Kentucky, United ...| -84.87762| 38.20042|\n",
      "|1062380306802462721|          US|Gilbert, Arizona,...|-111.78903| 33.35283|\n",
      "|            8926282|          US|Los Angeles, Cali...|-118.24368| 34.05223|\n",
      "|1225898684765831168|          US|       United States|     -98.5|    39.76|\n",
      "|1513157814142877707|          US|       United States|     -98.5|    39.76|\n",
      "|         2342016626|          US|North Wildwood, N...| -74.79933| 39.00067|\n",
      "|1025715968461271046|          US|California, Unite...|-119.75126| 37.25022|\n",
      "| 759495379301769216|          US|Madison, Wisconsi...| -89.40123| 43.07305|\n",
      "|         2431547731|          US|East Port Orchard...| -122.6243| 47.52343|\n",
      "+-------------------+------------+--------------------+----------+---------+\n",
      "only showing top 20 rows\n",
      "\n"
     ]
    }
   ],
   "source": [
    "# users_geo table df\n",
    "\n",
    "users_geo_df = final_df.select(\"user_id\", \"country_code\", \"location_name\", \"latitude\", \"longitude\")\n",
    "\n",
    "users_geo_df.show()"
   ]
  },
  {
   "cell_type": "code",
   "execution_count": 32,
   "metadata": {
    "colab": {
     "base_uri": "https://localhost:8080/"
    },
    "id": "PYagG_jhIbOh",
    "outputId": "999bd4b9-518f-4ed4-88aa-820c764ae3f1"
   },
   "outputs": [
    {
     "name": "stdout",
     "output_type": "stream",
     "text": [
      "Enter database password··········\n"
     ]
    }
   ],
   "source": [
    "# Store environmental variable\n",
    "from getpass import getpass\n",
    "password = getpass('Enter database password')\n",
    "# Configure settings for RDS\n",
    "mode = \"overwrite\"\n",
    "jdbc_url=\"jdbc:postgresql://gun-sentiment-db.ckbz1nmb8sin.us-west-2.rds.amazonaws.com:5432/gun_sentiment_tweets_db\"\n",
    "config = {\"user\":\"postgres\",\n",
    "          \"password\": password,\n",
    "          \"driver\":\"org.postgresql.Driver\"}"
   ]
  },
  {
   "cell_type": "code",
   "execution_count": 33,
   "metadata": {
    "id": "ckjzZVd9xm8D"
   },
   "outputs": [],
   "source": [
    "# Write tweet_df to tweets table\n",
    "tweets_df.write.jdbc(url=jdbc_url, table='tweets', mode=mode, properties=config)"
   ]
  },
  {
   "cell_type": "code",
   "execution_count": 34,
   "metadata": {
    "id": "gqr_0Sh_x54_"
   },
   "outputs": [],
   "source": [
    "# Write users_geo_df to tweets table\n",
    "tweets_df.write.jdbc(url=jdbc_url, table='users_geo', mode=mode, properties=config)"
   ]
  },
  {
   "cell_type": "code",
   "execution_count": null,
   "metadata": {
    "id": "VNUQ1hrs1p3t"
   },
   "outputs": [],
   "source": []
  }
 ],
 "metadata": {
  "colab": {
   "provenance": []
  },
  "kernelspec": {
   "display_name": "Python 3 (ipykernel)",
   "language": "python",
   "name": "python3"
  },
  "language_info": {
   "codemirror_mode": {
    "name": "ipython",
    "version": 3
   },
   "file_extension": ".py",
   "mimetype": "text/x-python",
   "name": "python",
   "nbconvert_exporter": "python",
   "pygments_lexer": "ipython3",
   "version": "3.9.12"
  }
 },
 "nbformat": 4,
 "nbformat_minor": 4
}
