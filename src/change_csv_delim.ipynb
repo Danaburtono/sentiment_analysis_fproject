{
 "cells": [
  {
   "cell_type": "code",
   "execution_count": 7,
   "id": "455cae4b",
   "metadata": {},
   "outputs": [],
   "source": [
    "import pandas as pd"
   ]
  },
  {
   "cell_type": "code",
   "execution_count": 11,
   "id": "608ddf8a",
   "metadata": {},
   "outputs": [],
   "source": [
    "# Function to convert comma separated csv file to pipe separated csv file\n",
    "def change_csv_delim(csv_file):\n",
    "\n",
    "    csv_ext = '.csv'\n",
    "    \n",
    "    df = pd.read_csv(csv_file + csv_ext)\n",
    "    \n",
    "    out_file = csv_file + '_pipe_delim' + csv_ext \n",
    "    \n",
    "    df.to_csv(out_file, sep='|', index=False)\n",
    "    "
   ]
  },
  {
   "cell_type": "code",
   "execution_count": 46,
   "id": "b4ff7c5d",
   "metadata": {},
   "outputs": [],
   "source": [
    "# Function to remove newline characters ('\\r' + '\\n') from csv file\n",
    "def remove_newline(csv_file):\n",
    "    \n",
    "    csv_ext = '.csv'\n",
    "    \n",
    "    df = pd.read_csv(csv_file + csv_ext)\n",
    "    \n",
    "    df = df.replace(r'\\\\r', ' ', regex=True)\n",
    "    df = df.replace(r'\\\\n', ' ', regex=True)\n",
    "    df = df.replace(r'\\|', ' : ', regex=True)\n",
    "    \n",
    "    out_file = csv_file + '_removed_newline' + csv_ext \n",
    "    \n",
    "    df.to_csv(out_file, sep='|', index=False)\n"
   ]
  },
  {
   "cell_type": "code",
   "execution_count": 47,
   "id": "d32e1471",
   "metadata": {},
   "outputs": [],
   "source": [
    "# Create pipe delimited version of training_tweets.csv in res/\n",
    "training_tweets = '../res/training_tweets'\n",
    "#change_csv_delim(training_tweets)\n",
    "remove_newline(training_tweets)\n",
    "# Output file will be moved to s3 bucket for loading into spark and writing to database"
   ]
  },
  {
   "cell_type": "code",
   "execution_count": 48,
   "id": "75b1c046",
   "metadata": {},
   "outputs": [],
   "source": [
    "df = pd.read_csv('../res/training_tweets.csv', sep=',')"
   ]
  },
  {
   "cell_type": "code",
   "execution_count": 49,
   "id": "4ff3b6e9",
   "metadata": {},
   "outputs": [
    {
     "name": "stdout",
     "output_type": "stream",
     "text": [
      "<class 'pandas.core.frame.DataFrame'>\n",
      "RangeIndex: 8801 entries, 0 to 8800\n",
      "Data columns (total 25 columns):\n",
      " #   Column             Non-Null Count  Dtype  \n",
      "---  ------             --------------  -----  \n",
      " 0   tweet_id           8801 non-null   int64  \n",
      " 1   date               8801 non-null   object \n",
      " 2   full_text          8801 non-null   object \n",
      " 3   tweet_type         8801 non-null   object \n",
      " 4   hashtags           1366 non-null   object \n",
      " 5   mentions           6147 non-null   object \n",
      " 6   user_location      8781 non-null   object \n",
      " 7   place_type         244 non-null    object \n",
      " 8   place_name         244 non-null    object \n",
      " 9   place_full_name    244 non-null    object \n",
      " 10  country_code       244 non-null    object \n",
      " 11  country            244 non-null    object \n",
      " 12  prof_country       8747 non-null   object \n",
      " 13  prof_country_code  8747 non-null   object \n",
      " 14  prof_locality      4645 non-null   object \n",
      " 15  prof_region        7680 non-null   object \n",
      " 16  prof_sub_region    4477 non-null   object \n",
      " 17  prof_full_name     8747 non-null   object \n",
      " 18  prof_coord_lat     8747 non-null   float64\n",
      " 19  prof_coord_lng     8747 non-null   float64\n",
      " 20  reply_count        8801 non-null   int64  \n",
      " 21  quote_count        8801 non-null   int64  \n",
      " 22  likes_count        8801 non-null   int64  \n",
      " 23  retweet_counts     8801 non-null   int64  \n",
      " 24  hyperlink          8801 non-null   object \n",
      "dtypes: float64(2), int64(5), object(18)\n",
      "memory usage: 1.7+ MB\n"
     ]
    }
   ],
   "source": [
    "df.info()"
   ]
  },
  {
   "cell_type": "code",
   "execution_count": null,
   "id": "ac6b8676",
   "metadata": {},
   "outputs": [],
   "source": []
  }
 ],
 "metadata": {
  "kernelspec": {
   "display_name": "tf_env",
   "language": "python",
   "name": "tf_env"
  },
  "language_info": {
   "codemirror_mode": {
    "name": "ipython",
    "version": 3
   },
   "file_extension": ".py",
   "mimetype": "text/x-python",
   "name": "python",
   "nbconvert_exporter": "python",
   "pygments_lexer": "ipython3",
   "version": "3.9.12"
  }
 },
 "nbformat": 4,
 "nbformat_minor": 5
}
