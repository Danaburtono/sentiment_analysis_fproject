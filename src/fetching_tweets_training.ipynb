{
 "cells": [
  {
   "cell_type": "markdown",
   "id": "6e3ad050",
   "metadata": {},
   "source": [
    "# Fetching Tweets for Training Data from Twitter API"
   ]
  },
  {
   "cell_type": "markdown",
   "id": "74f6f455",
   "metadata": {},
   "source": [
    "## Twitter API Premium v1.1: Search Tweets 30-Day and Tweet Counts Endpoints"
   ]
  },
  {
   "cell_type": "code",
   "execution_count": 1,
   "id": "13218b94",
   "metadata": {},
   "outputs": [],
   "source": [
    "# Import dependencies\n",
    "import tweepy\n",
    "import pandas as pd\n",
    "import json"
   ]
  },
  {
   "cell_type": "code",
   "execution_count": 2,
   "id": "ee4def7d",
   "metadata": {},
   "outputs": [],
   "source": [
    "# Import API client token\n",
    "import os\n",
    "from dotenv import load_dotenv\n",
    "load_dotenv()\n",
    "\n",
    "twit_token = os.getenv('twit_token')"
   ]
  },
  {
   "cell_type": "code",
   "execution_count": 95,
   "id": "46592ec6",
   "metadata": {},
   "outputs": [],
   "source": [
    "auth = tweepy.OAuth2BearerHandler(twit_token)\n",
    "api = tweepy.API(auth, wait_on_rate_limit=True)"
   ]
  },
  {
   "cell_type": "code",
   "execution_count": 207,
   "id": "c89f943b",
   "metadata": {},
   "outputs": [],
   "source": [
    "# Code reproduced from Twitter developer API documentation [4]\n",
    "def determine_tweet_type(tweet):\n",
    "    # Check for reply indicator first\n",
    "    if tweet[\"in_reply_to_status_id\"] is not None:\n",
    "        tweet_type = \"Reply Tweet\"\n",
    "    # Check boolean quote status field but make sure it's not a Retweet (of a Quote Tweet) \n",
    "    elif tweet[\"is_quote_status\"] is True and not tweet[\"text\"].startswith(\"RT\"):\n",
    "        tweet_type = \"Quote Tweet\"\n",
    "    # Check both indicators of a Retweet\n",
    "    elif tweet[\"text\"].startswith(\"RT\") and tweet.get(\"retweeted_status\") is not None:\n",
    "        tweet_type = \"Retweet\"\n",
    "    else:\n",
    "        tweet_type = \"Original Tweet\"\n",
    "    return tweet_type\n",
    "\n",
    "parsedTweets = []\n",
    "rawTweets = []\n",
    "\n",
    "def parse_tweets(status):\n",
    "    for tweet in status:\n",
    "        \n",
    "        rawTweets.append(tweet)\n",
    "        \n",
    "        if determine_tweet_type(tweet._json) == 'Retweet':\n",
    "            if 'extended_tweet' in tweet._json['retweeted_status']:\n",
    "                full_text = tweet._json['retweeted_status']['extended_tweet']['full_text']\n",
    "                \n",
    "                # Collect hashtags from tweet into list\n",
    "                hashtags = []\n",
    "                for hashtag in range(len(tweet._json[\"extended_tweet\"][\"entities\"][\"hashtags\"])):\n",
    "                    hashtags.append(\"#\" + tweet._json[\"extended_tweet\"][\"entities\"][\"hashtags\"][hashtag]['text'])\n",
    "                \n",
    "                # Collect mentions from tweet into list\n",
    "                mentions = []\n",
    "                for mention in range(len(tweet._json[\"extended_tweet\"][\"entities\"][\"user_mentions\"])):\n",
    "                    mentions.append(\"@\" + tweet._json[\"extended_tweet\"][\"entities\"][\"user_mentions\"][mention][\"screen_name\"])\n",
    "            else:\n",
    "                full_text = tweet._json['retweeted_status']['text']\n",
    "                \n",
    "                # Collect hashtags from tweet into list\n",
    "                hashtags = []\n",
    "                for hashtag in range(len(tweet._json[\"entities\"][\"hashtags\"])):\n",
    "                    hashtags.append(\"#\" + tweet._json[\"entities\"][\"hashtags\"][hashtag]['text'])\n",
    "                \n",
    "                # Collect mentions from tweet into list\n",
    "                mentions = []\n",
    "                for mention in range(len(tweet._json[\"entities\"][\"user_mentions\"])):\n",
    "                    mentions.append(\"@\" + tweet._json[\"entities\"][\"user_mentions\"][mention][\"screen_name\"])\n",
    "               \n",
    "\n",
    "        elif determine_tweet_type(tweet._json) == 'Quote Tweet':\n",
    "            if 'extended_tweet' in tweet._json['quoted_status']:\n",
    "                full_text = tweet._json['quoted_status']['extended_tweet']['full_text']\n",
    "                \n",
    "                # Collect hashtags from tweet into list\n",
    "                hashtags = []\n",
    "                for hashtag in range(len(tweet._json[\"extended_tweet\"][\"entities\"][\"hashtags\"])):\n",
    "                    hashtags.append(\"#\" + tweet._json[\"extended_tweet\"][\"entities\"][\"hashtags\"][hashtag]['text'])\n",
    "                \n",
    "                # Collect mentions from tweet into list\n",
    "                mentions = []\n",
    "                for mention in range(len(tweet._json[\"extended_tweet\"][\"entities\"][\"user_mentions\"])):\n",
    "                    mentions.append(\"@\" + tweet._json[\"extended_tweet\"][\"entities\"][\"user_mentions\"][mention][\"screen_name\"])\n",
    "                    \n",
    "            else:\n",
    "                full_text = tweet._json['quoted_status']['text']\n",
    "                \n",
    "                # Collect hashtags from tweet into list\n",
    "                hashtags = []\n",
    "                for hashtag in range(len(tweet._json[\"entities\"][\"hashtags\"])):\n",
    "                    hashtags.append(\"#\" + tweet._json[\"entities\"][\"hashtags\"][hashtag]['text'])\n",
    "                \n",
    "                # Collect mentions from tweet into list\n",
    "                mentions = []\n",
    "                for mention in range(len(tweet._json[\"entities\"][\"user_mentions\"])):\n",
    "                    mentions.append(\"@\" + tweet._json[\"entities\"][\"user_mentions\"][mention][\"screen_name\"])\n",
    "                \n",
    "        else:\n",
    "            if 'extended_tweet' in tweet._json:\n",
    "                full_text = tweet._json['extended_tweet']['full_text']\n",
    "                \n",
    "                # Collect hashtags from tweet into list\n",
    "                hashtags = []\n",
    "                for hashtag in range(len(tweet._json[\"extended_tweet\"][\"entities\"][\"hashtags\"])):\n",
    "                    hashtags.append(\"#\" + tweet._json[\"extended_tweet\"][\"entities\"][\"hashtags\"][hashtag]['text'])\n",
    "                \n",
    "                # Collect mentions from tweet into list\n",
    "                mentions = []\n",
    "                for mention in range(len(tweet._json[\"extended_tweet\"][\"entities\"][\"user_mentions\"])):\n",
    "                    mentions.append(\"@\" + tweet._json[\"extended_tweet\"][\"entities\"][\"user_mentions\"][mention][\"screen_name\"])\n",
    "                    \n",
    "            else:\n",
    "                full_text = tweet._json['text']\n",
    "                \n",
    "                # Collect hashtags from tweet into list\n",
    "                hashtags = []\n",
    "                for hashtag in range(len(tweet._json[\"entities\"][\"hashtags\"])):\n",
    "                    hashtags.append(\"#\" + tweet._json[\"entities\"][\"hashtags\"][hashtag]['text'])\n",
    "                \n",
    "                # Collect mentions from tweet into list\n",
    "                mentions = []\n",
    "                for mention in range(len(tweet._json[\"entities\"][\"user_mentions\"])):\n",
    "                    mentions.append(\"@\" + tweet._json[\"entities\"][\"user_mentions\"][mention][\"screen_name\"])\n",
    "        \n",
    "\n",
    "        mydict = { \"tweet_id\": tweet._json[\"id_str\"], #Tweet ID\n",
    "                       \"date\":tweet._json[\"created_at\"], #Timestamp of tweet creation\n",
    "                       \"full_text\": full_text, #Full tweet text\n",
    "                       \"tweet_type\": determine_tweet_type(tweet._json), #Type of tweet\n",
    "                       \"hashtags\": hashtags, #List of hashtags used in the tweet\n",
    "                       \"mentions\": mentions, #List of mentions used in the tweet\n",
    "                       \"user_location\": tweet._json[\"user\"][\"location\"], #The user's listed location\n",
    "                       \"reply_count\": tweet._json[\"reply_count\"], #Number of times Tweet has been replied to\n",
    "                       \"quote_count\": tweet._json[\"quote_count\"], # Number of times Tweet has been quoted\n",
    "                       \"likes_count\": tweet._json[\"favorite_count\"], #Number of times Tweet has been liked \n",
    "                       \"retweet_counts\": tweet._json[\"retweet_count\"], #Number of times this Tweet has been retweeted\n",
    "                       \"hyperlink\": \"https://twitter.com/twitter/status/\" + tweet._json[\"id_str\"] #Link to tweet\n",
    "              }\n",
    "        \n",
    "        parsedTweets.append(mydict) # Add Tweet to parsedTweets list"
   ]
  },
  {
   "cell_type": "code",
   "execution_count": 208,
   "id": "60d7a74b",
   "metadata": {},
   "outputs": [],
   "source": [
    "query = '#guncontrol OR #gunrights OR #gunsense OR #2a OR #gunviolence OR #nra OR #guns OR #shooting OR #firearms OR #gunsafety OR #uvalde \\\n",
    "        OR \"gun control\" OR \"2nd amendment\" OR \"gun violence\" OR \"right to bear\" OR \"nra\" OR \"gun safety\" OR \"gun rights\" OR \"good guy with a gun\" \\\n",
    "        OR \"assault weapons\" OR \"ban guns\" OR \"ban assault\" OR \"school shootings\" OR \"ar-15\" OR \"mass Shootings\" lang:en -is:retweet -is:quote lang:en'\n",
    "    \n",
    "\n",
    "parsedTweets = []\n",
    "rawTweets = []\n",
    "\n",
    "status = tweepy.Cursor(api.search_30_day, label='tweetsentiment', query=query, fromDate='202211030000', toDate='202211040000').items(100)\n",
    "\n",
    "parse_tweets(status)\n",
    "\n",
    "    \n",
    "tweet_df = pd.DataFrame(parsedTweets)"
   ]
  },
  {
   "cell_type": "code",
   "execution_count": 209,
   "id": "dd846e73",
   "metadata": {},
   "outputs": [
    {
     "data": {
      "text/plain": [
       "'𝐅𝐢𝐫𝐬𝐭 𝐍𝐚𝐭𝐢𝐨𝐧𝐬 𝐂𝐡𝐢𝐞𝐟 𝐓𝐞𝐫𝐫𝐲 𝐓𝐞𝐞𝐠𝐞𝐞 𝐞𝐱𝐩𝐫𝐞𝐬𝐬𝐞𝐬 𝐜𝐨𝐧𝐜𝐞𝐫𝐧𝐬 𝐰𝐢𝐭𝐡 𝐂-𝟐𝟏\\nRegional Chief @Terry_Teegee of @BCAFN had concerns #C21 could restrict access to guns historically used by First Nations #cdnpoli #guncontrol\\nhttps://t.co/vmSOcIUWSI'"
      ]
     },
     "execution_count": 209,
     "metadata": {},
     "output_type": "execute_result"
    }
   ],
   "source": [
    "tweet_df['full_text'][99]"
   ]
  }
 ],
 "metadata": {
  "kernelspec": {
   "display_name": "tf_env",
   "language": "python",
   "name": "tf_env"
  },
  "language_info": {
   "codemirror_mode": {
    "name": "ipython",
    "version": 3
   },
   "file_extension": ".py",
   "mimetype": "text/x-python",
   "name": "python",
   "nbconvert_exporter": "python",
   "pygments_lexer": "ipython3",
   "version": "3.9.12"
  }
 },
 "nbformat": 4,
 "nbformat_minor": 5
}
